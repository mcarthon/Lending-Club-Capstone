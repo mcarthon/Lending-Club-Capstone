{
  "nbformat": 4,
  "nbformat_minor": 0,
  "metadata": {
    "colab": {
      "name": "Capstone.ipynb",
      "provenance": [],
      "collapsed_sections": [],
      "history_visible": true,
      "machine_shape": "hm"
    },
    "kernelspec": {
      "name": "python3",
      "display_name": "Python 3"
    }
  },
  "cells": [
    {
      "cell_type": "code",
      "metadata": {
        "id": "M8oGrhIxxrNm"
      },
      "source": [
        "%%time\n",
        "import pandas as pd\n",
        "import numpy as np\n",
        "import matplotlib.pyplot as plt\n",
        "import seaborn as sns\n",
        "import missingno as msno\n",
        "from sklearn.linear_model import Lasso\n",
        "import re\n",
        "import math\n",
        "from sklearn.metrics import confusion_matrix\n",
        "from sklearn.model_selection import *"
      ],
      "execution_count": null,
      "outputs": []
    },
    {
      "cell_type": "code",
      "metadata": {
        "id": "_t3EtnESQlQn"
      },
      "source": [
        "from google.colab import drive\n",
        "drive.mount(\"/content/gdrive\")"
      ],
      "execution_count": null,
      "outputs": []
    },
    {
      "cell_type": "code",
      "metadata": {
        "id": "UjujShbL24R2"
      },
      "source": [
        "%%time\n",
        "accepted = pd.read_csv(\"/content/gdrive/MyDrive/NYC DSA Capstone Project/Data/accepted_2007_to_2018q4.csv/accepted.csv\", low_memory = False)\n",
        "features = pd.read_csv(\"/content/gdrive/MyDrive/NYC DSA Capstone Project/Data/features.csv\", low_memory = False)\n",
        "#rejected = pd.read_csv(\"/content/gdrive/MyDrive/NYC DSA Capstone Project/Data/rejected_2007_to_2018q4.csv/rejected_2007_to_2018Q4.csv\", low_memory = False)"
      ],
      "execution_count": null,
      "outputs": []
    },
    {
      "cell_type": "code",
      "metadata": {
        "id": "4z6A6lLoGa8w"
      },
      "source": [
        "print(accepted.shape)\n",
        "#print(rejected.shape)"
      ],
      "execution_count": null,
      "outputs": []
    },
    {
      "cell_type": "code",
      "metadata": {
        "id": "cD7k2XNL3A4k"
      },
      "source": [
        "accepted.head()"
      ],
      "execution_count": null,
      "outputs": []
    },
    {
      "cell_type": "code",
      "metadata": {
        "id": "OGga9tDi3GMv"
      },
      "source": [
        "accepted.info(max_cols = 160)"
      ],
      "execution_count": null,
      "outputs": []
    },
    {
      "cell_type": "code",
      "metadata": {
        "id": "LfsL436OHial"
      },
      "source": [
        "accepted.info()"
      ],
      "execution_count": null,
      "outputs": []
    },
    {
      "cell_type": "code",
      "metadata": {
        "id": "b2SZCdvE3T1X"
      },
      "source": [
        "accepted.describe()"
      ],
      "execution_count": null,
      "outputs": []
    },
    {
      "cell_type": "code",
      "metadata": {
        "id": "RMeu4D2c3gUo"
      },
      "source": [
        "rejected.info()"
      ],
      "execution_count": null,
      "outputs": []
    },
    {
      "cell_type": "code",
      "metadata": {
        "id": "qk41eXq73-kr"
      },
      "source": [
        "rejected.describe()"
      ],
      "execution_count": null,
      "outputs": []
    },
    {
      "cell_type": "code",
      "metadata": {
        "id": "zoJflKer4R8N"
      },
      "source": [
        "plt.figure(figsize = (15,15))\n",
        "correlation_matrix = rejected.corr()\n",
        "sns.heatmap(correlation_matrix, annot = True)\n",
        "plt.show()"
      ],
      "execution_count": null,
      "outputs": []
    },
    {
      "cell_type": "code",
      "metadata": {
        "id": "LBRmwl1B5e57"
      },
      "source": [
        "plt.figure(figsize = (25,15))\n",
        "sns.boxplot(accepted.grade, accepted.loan_amnt)"
      ],
      "execution_count": null,
      "outputs": []
    },
    {
      "cell_type": "code",
      "metadata": {
        "id": "_17xEqX38VJM"
      },
      "source": [
        "plt.figure(figsize = (25,15))\n",
        "sns.boxplot(accepted.grade, accepted.annual_inc_joint)"
      ],
      "execution_count": null,
      "outputs": []
    },
    {
      "cell_type": "code",
      "metadata": {
        "id": "N093xoSoi1Y8"
      },
      "source": [
        "accepted_missing = pd.DataFrame(accepted.isnull().mean(axis = 0).sort_values(ascending = False), \n",
        "                                columns = [\"Num_Missing\"])\n",
        "                                #index = accepted.columns)\n",
        "#accepted_missing.Num_Missing = accepted_missing.Num_Missing/accepted.shape[0]"
      ],
      "execution_count": null,
      "outputs": []
    },
    {
      "cell_type": "code",
      "metadata": {
        "id": "NgniWX_dihwf"
      },
      "source": [
        "accepted_missing.head()"
      ],
      "execution_count": null,
      "outputs": []
    },
    {
      "cell_type": "code",
      "metadata": {
        "id": "Ylsgdcs8JeJ_"
      },
      "source": [
        "# accepted = accepted.drop(columns = ['sec_app_chargeoff_within_12_mths',\n",
        "#                                     'sec_app_fico_range_high',\n",
        "#                                     'sec_app_inq_last_6mths',\n",
        "#                                     'sec_app_mort_acc',\n",
        "#                                     'sec_app_open_acc',\n",
        "#                                     'sec_app_revol_util',\n",
        "#                                     'sec_app_open_act_il',\n",
        "#                                     'sec_app_num_rev_accts',\n",
        "#                                     'sec_app_fico_range_low',\n",
        "#                                     'sec_app_collections_12_mths_ex_med',\n",
        "#                                     'sec_app_mths_since_last_major_derog',\n",
        "#                                     'sec_app_earliest_cr_line',\n",
        "#                                     'revol_bal_joint',\n",
        "#                                     'member_id'],\n",
        "#                                     axis =  1)\n",
        "accepted.info(max_cols = 200)"
      ],
      "execution_count": null,
      "outputs": []
    },
    {
      "cell_type": "code",
      "metadata": {
        "id": "cf7eoYcqAPJY"
      },
      "source": [
        "accepted_missing[accepted_missing[\"Num_Missing\"] > 0.5]"
      ],
      "execution_count": null,
      "outputs": []
    },
    {
      "cell_type": "code",
      "metadata": {
        "id": "uFPuB0FQQx56"
      },
      "source": [
        "date = []\n",
        "for x in accepted.columns:\n",
        "    if re.findall(\"date\", x):\n",
        "        date.append(x)\n",
        "date"
      ],
      "execution_count": null,
      "outputs": []
    },
    {
      "cell_type": "code",
      "metadata": {
        "id": "HyLd7Zl6vHnR"
      },
      "source": [
        "# %%time\n",
        "# for i in range(len(accepted.term)):\n",
        "#     if accepted.term[i]:\n",
        "#         accepted.term[i] = int(re.sub(pattern = \"(\\d\\d)*([^\\d])*\", repl = r\"\\1\", string = accepted.term[i]))"
      ],
      "execution_count": null,
      "outputs": []
    },
    {
      "cell_type": "code",
      "metadata": {
        "id": "T1Ncwa2jy4Dl"
      },
      "source": [
        "# #list(map(lambda i: int(re.sub(pattern = \"(\\d\\d)*([^\\d])*\", \\\n",
        "#                               repl = r\"\\1\", \\\n",
        "#                               string = accepted.term[i])) \\\n",
        "#                        if accepted.term[i] for i in range(len(accepted.term)), \n",
        "#          accepted.term))"
      ],
      "execution_count": null,
      "outputs": []
    },
    {
      "cell_type": "code",
      "metadata": {
        "id": "1nnzNlxAuOA2"
      },
      "source": [
        "%%time\n",
        "accepted[\"term\"] = accepted[\"term\"].apply(lambda term: int(re.sub(pattern = \"(\\d\\d)*([^\\d])*\", repl = r\"\\1\", string = term)) if isinstance(term, str) else term)"
      ],
      "execution_count": null,
      "outputs": []
    },
    {
      "cell_type": "code",
      "metadata": {
        "id": "iveKWE0OY98A"
      },
      "source": [
        "# Our target variable\n",
        "accepted[\"total_payment\"] = accepted.installment * accepted.term"
      ],
      "execution_count": null,
      "outputs": []
    },
    {
      "cell_type": "code",
      "metadata": {
        "id": "6bneOOeEZXDw"
      },
      "source": [
        "accepted[accepted.term.isnull()]"
      ],
      "execution_count": null,
      "outputs": []
    },
    {
      "cell_type": "code",
      "metadata": {
        "id": "BfbWubc92CWf"
      },
      "source": [
        "accepted = accepted.dropna(axis = 0, how = \"any\", subset = [\"term\"])"
      ],
      "execution_count": null,
      "outputs": []
    },
    {
      "cell_type": "code",
      "metadata": {
        "id": "K_rKsTd64cdP"
      },
      "source": [
        "accepted[accepted.term.isnull()]"
      ],
      "execution_count": null,
      "outputs": []
    },
    {
      "cell_type": "code",
      "metadata": {
        "id": "z0QLp_5E-pkB"
      },
      "source": [
        "#%%time\n",
        "#accepted.to_csv(\"/content/gdrive/MyDrive/NYC DSA Capstone Project/Data/accepted_2007_to_2018q4.csv/accepted.csv\")"
      ],
      "execution_count": null,
      "outputs": []
    },
    {
      "cell_type": "code",
      "metadata": {
        "id": "1b36oWDX4hQM"
      },
      "source": [
        "hardship = accepted[accepted.hardship_status.notnull()]\n",
        "hardship"
      ],
      "execution_count": null,
      "outputs": []
    },
    {
      "cell_type": "code",
      "metadata": {
        "id": "1bpHaZhm5gjB"
      },
      "source": [
        "type(hardship)"
      ],
      "execution_count": null,
      "outputs": []
    },
    {
      "cell_type": "code",
      "metadata": {
        "id": "1lQQeHay5i2D"
      },
      "source": [
        "hardship.hardship_reason.unique()"
      ],
      "execution_count": null,
      "outputs": []
    },
    {
      "cell_type": "code",
      "metadata": {
        "id": "vio5DO9t55IH"
      },
      "source": [
        "#plt.figure(figsize = (20,20))\n",
        "sns.boxplot(x = hardship.hardship_reason,\n",
        "            y = hardship.hardship_length,\n",
        "            data = hardship)"
      ],
      "execution_count": null,
      "outputs": []
    },
    {
      "cell_type": "code",
      "metadata": {
        "id": "TLiew3IL7zY6"
      },
      "source": [
        "len(hardship.hardship_length.unique())"
      ],
      "execution_count": null,
      "outputs": []
    },
    {
      "cell_type": "code",
      "metadata": {
        "id": "PSwdhRHF8qpd"
      },
      "source": [
        "len(accepted.hardship_length.unique())"
      ],
      "execution_count": null,
      "outputs": []
    },
    {
      "cell_type": "code",
      "metadata": {
        "id": "CLW7Y_Gf8vji"
      },
      "source": [
        "\n",
        "[math.isnan(val) for val in accepted.hardship_length.unique()]"
      ],
      "execution_count": null,
      "outputs": []
    },
    {
      "cell_type": "code",
      "metadata": {
        "id": "YN4FTsdY7-SN"
      },
      "source": [
        "%%time\n",
        "accepted[\"hardship_length\"] = accepted[\"hardship_length\"].apply(lambda entry: 0 if math.isnan(entry) else entry)"
      ],
      "execution_count": null,
      "outputs": []
    },
    {
      "cell_type": "code",
      "metadata": {
        "id": "IqypdWqM8-Eg"
      },
      "source": [
        "accepted[accepted.hardship_length.isnull()]"
      ],
      "execution_count": null,
      "outputs": []
    },
    {
      "cell_type": "code",
      "metadata": {
        "id": "6D0QwqThRpLk"
      },
      "source": [
        "plt.figure(figsize = (20,20))\n",
        "sns.boxplot(x = hardship.hardship_reason,\n",
        "            y = hardship.total_payment,\n",
        "            data = hardship)"
      ],
      "execution_count": null,
      "outputs": []
    },
    {
      "cell_type": "code",
      "metadata": {
        "id": "OZ1M0i-2UyS7"
      },
      "source": [
        "accepted.drop([\"member_id\"], axis = 1, inplace = True)"
      ],
      "execution_count": null,
      "outputs": []
    },
    {
      "cell_type": "code",
      "metadata": {
        "id": "bS5hAiNFVhuJ"
      },
      "source": [
        "accepted_missing"
      ],
      "execution_count": null,
      "outputs": []
    },
    {
      "cell_type": "code",
      "metadata": {
        "id": "nZc3zZijWBBX"
      },
      "source": [
        "hardship.hardship_status.unique()"
      ],
      "execution_count": null,
      "outputs": []
    },
    {
      "cell_type": "code",
      "metadata": {
        "id": "F50l5PqVWoSd"
      },
      "source": [
        "print(np.mean(hardship.hardship_status == 'COMPLETED'))\n",
        "print(np.mean(hardship.hardship_status == 'ACTIVE'))\n",
        "print(np.mean(hardship.hardship_status == 'BROKEN'))"
      ],
      "execution_count": null,
      "outputs": []
    },
    {
      "cell_type": "code",
      "metadata": {
        "id": "xij9EdhrXcgv"
      },
      "source": [
        "# plt.figure(figsize = (20,20))\n",
        "# sns.barplot(x = hardship.hardship_reason,\n",
        "#             y = sum(hardship.hardship_status == 'COMPLETED'),\n",
        "#             data = hardship)"
      ],
      "execution_count": null,
      "outputs": []
    },
    {
      "cell_type": "code",
      "metadata": {
        "id": "Hpq_ZSy0Xr6Z"
      },
      "source": [
        "print(sum(hardship.hardship_status == 'COMPLETED'))\n",
        "print(sum(hardship.hardship_status == 'ACTIVE'))\n",
        "print(sum(hardship.hardship_status == 'BROKEN'))"
      ],
      "execution_count": null,
      "outputs": []
    },
    {
      "cell_type": "code",
      "metadata": {
        "id": "0dOCPIBhYeCN"
      },
      "source": [
        "sum(accepted.issue_d.isnull())"
      ],
      "execution_count": null,
      "outputs": []
    },
    {
      "cell_type": "code",
      "metadata": {
        "id": "k6R1sLEecTBs"
      },
      "source": [
        "len(accepted.issue_d.unique())"
      ],
      "execution_count": null,
      "outputs": []
    },
    {
      "cell_type": "code",
      "metadata": {
        "id": "AFFxaByBgW5d"
      },
      "source": [
        "accepted.issue_d.unique()"
      ],
      "execution_count": null,
      "outputs": []
    },
    {
      "cell_type": "code",
      "metadata": {
        "id": "dykCeP3Mj_n-"
      },
      "source": [
        "%%time\n",
        "accepted[\"issue_d\"] = accepted[\"issue_d\"].apply(lambda date: re.sub(pattern = \"([A-Za-z]*)([-])*([0-9]*)\", repl = r\"\\1\\3\", string = date) if isinstance(date, str) else date)"
      ],
      "execution_count": null,
      "outputs": []
    },
    {
      "cell_type": "code",
      "metadata": {
        "id": "1PX08lnOflB_"
      },
      "source": [
        "accepted[\"issue_d\"] = pd.to_datetime(accepted.issue_d, \n",
        "                                     format = \"%Y-%m-%d\", \n",
        "                                     #errors = \"ignore\", \n",
        "                                     yearfirst = True)\n",
        "accepted.issue_d"
      ],
      "execution_count": null,
      "outputs": []
    },
    {
      "cell_type": "code",
      "metadata": {
        "id": "PHkEiZGNpIF1"
      },
      "source": [
        "accepted.issue_d.unique()"
      ],
      "execution_count": null,
      "outputs": []
    },
    {
      "cell_type": "code",
      "metadata": {
        "id": "S5GCnC5zpLYF"
      },
      "source": [
        "plt.figure(figsize = (15,10))\n",
        "count_by_year = pd.DataFrame(accepted.groupby([\"issue_d\"])[\"id\"].count())\n",
        "print(count_by_year)\n",
        "sns.lineplot(count_by_year.index, count_by_year.id, data = count_by_year)"
      ],
      "execution_count": null,
      "outputs": []
    },
    {
      "cell_type": "code",
      "metadata": {
        "id": "32Lc6xDmrblp"
      },
      "source": [
        "accepted.purpose.unique()"
      ],
      "execution_count": null,
      "outputs": []
    },
    {
      "cell_type": "code",
      "metadata": {
        "id": "gB6RhpD9sY1B"
      },
      "source": [
        "plt.figure(figsize = (20,10))\n",
        "count_by_purpose = pd.DataFrame(accepted.groupby([\"purpose\"])[\"id\"].count().sort_values())\n",
        "count_by_purpose\n",
        "sns.barplot(count_by_purpose.index, count_by_purpose.id, palette = \"deep\")"
      ],
      "execution_count": null,
      "outputs": []
    },
    {
      "cell_type": "code",
      "metadata": {
        "id": "lsUI_EZeA4DV"
      },
      "source": [
        "count_by_purpose = count_by_purpose.sort_values(by = \"id\", ascending = False).reset_index()"
      ],
      "execution_count": null,
      "outputs": []
    },
    {
      "cell_type": "code",
      "metadata": {
        "id": "1wo2qORkBjxH"
      },
      "source": [
        "count_by_purpose = count_by_purpose.rename(columns = {\"id\":\"count\"})\r\n",
        "#count_by_purpose.drop(\"index\", axis = 1, inplace = True)\r\n",
        "count_by_purpose"
      ],
      "execution_count": null,
      "outputs": []
    },
    {
      "cell_type": "code",
      "metadata": {
        "id": "GD2zn2MsBtHi"
      },
      "source": [
        "count_by_purpose[\"count\"] = count_by_purpose[\"count\"] / sum(count_by_purpose[\"count\"])\r\n",
        "count_by_purpose"
      ],
      "execution_count": null,
      "outputs": []
    },
    {
      "cell_type": "code",
      "metadata": {
        "id": "DlpLtI8TCyqQ"
      },
      "source": [
        ""
      ],
      "execution_count": null,
      "outputs": []
    },
    {
      "cell_type": "code",
      "metadata": {
        "id": "m0SAqXWkvX9o"
      },
      "source": [
        "count_by_purpose_grade = pd.DataFrame(accepted.groupby([\"purpose\", \"grade\"])[\"id\"].count())\n",
        "count_by_purpose_grade.reset_index(inplace = True)\n",
        "count_by_purpose_grade"
      ],
      "execution_count": null,
      "outputs": []
    },
    {
      "cell_type": "code",
      "metadata": {
        "id": "vrWifwYH4Ww-"
      },
      "source": [
        "plt.figure(figsize = (30,6))\n",
        "#count_by_purpose_grade.index\n",
        "sns.barplot(count_by_purpose_grade.index, \n",
        "            count_by_purpose_grade.id, \n",
        "            order = count_by_purpose_grade.sort_values(by = \"id\", ascending = False, inplace = False).index)\n",
        "ind = range(len(count_by_purpose_grade))\n",
        "labels = list(zip(count_by_purpose_grade.purpose, count_by_purpose_grade.grade))\n",
        "plt.xticks(ind, labels, rotation = 90)\n",
        "plt.show()"
      ],
      "execution_count": null,
      "outputs": []
    },
    {
      "cell_type": "code",
      "metadata": {
        "id": "a86EZHpF_Xac"
      },
      "source": [
        "list(zip(count_by_purpose_grade.purpose, count_by_purpose_grade.grade))"
      ],
      "execution_count": null,
      "outputs": []
    },
    {
      "cell_type": "code",
      "metadata": {
        "id": "qzNKsKoyFNQv"
      },
      "source": [
        "accepted[\"year\"] = pd.DatetimeIndex(accepted.issue_d).year\n",
        "accepted[\"year\"]"
      ],
      "execution_count": null,
      "outputs": []
    },
    {
      "cell_type": "code",
      "metadata": {
        "id": "fKW6h36CEYoG"
      },
      "source": [
        "count_by_purpose_year = pd.DataFrame(accepted.groupby([\"year\",\"purpose\"])[\"id\"].count())\n",
        "count_by_purpose_year.reset_index(inplace = True)\n",
        "count_by_purpose_year"
      ],
      "execution_count": null,
      "outputs": []
    },
    {
      "cell_type": "code",
      "metadata": {
        "id": "3YATCOgpGdWQ"
      },
      "source": [
        "plt.figure(figsize = (30,6))\n",
        "\n",
        "sns.barplot(count_by_purpose_year.index, \n",
        "            count_by_purpose_year[\"id\"],\n",
        "            order = count_by_purpose_year.sort_values(by = \"id\", ascending = False, inplace = False).index)\n",
        "\n",
        "ind = range(len(count_by_purpose_year))\n",
        "labels = list(zip(count_by_purpose_year.year, count_by_purpose_year.purpose))\n",
        "plt.xticks(ind, labels, rotation = 90)\n",
        "\n",
        "plt.show()"
      ],
      "execution_count": null,
      "outputs": []
    },
    {
      "cell_type": "code",
      "metadata": {
        "id": "vGkD8-pdHc8G"
      },
      "source": [
        "count_by_purpose_year_grade = pd.DataFrame(accepted.groupby([\"issue_year\",\"purpose\", \"grade\"])[\"id\"].count())\n",
        "count_by_purpose_year_grade.reset_index(inplace = True)\n",
        "#count_by_purpose_year_grade.rename(columns = {\"id\":\"total\"})"
      ],
      "execution_count": null,
      "outputs": []
    },
    {
      "cell_type": "code",
      "metadata": {
        "id": "2D45X3_HMhFU"
      },
      "source": [
        "count_by_purpose_year_grade = count_by_purpose_year_grade.sort_values(by = \"id\", ascending = False, inplace = False).reset_index()\n",
        "count_by_purpose_year_grade.drop(\"index\", axis = 1, inplace = True)"
      ],
      "execution_count": null,
      "outputs": []
    },
    {
      "cell_type": "code",
      "metadata": {
        "id": "I69mW3NFPp0j"
      },
      "source": [
        "count_by_purpose_year_grade.describe()"
      ],
      "execution_count": null,
      "outputs": []
    },
    {
      "cell_type": "code",
      "metadata": {
        "id": "fw4TfC1tPnGi"
      },
      "source": [
        "#pd.options.display.max_rows = None\n",
        "top = count_by_purpose_year_grade[count_by_purpose_year_grade[\"id\"] > 1e4]\n",
        "top"
      ],
      "execution_count": null,
      "outputs": []
    },
    {
      "cell_type": "code",
      "metadata": {
        "id": "1UpssRlMRl5y"
      },
      "source": [
        "plt.figure(figsize = (30,8))\n",
        "\n",
        "sns.barplot(top.index, top[\"id\"])\n",
        "\n",
        "ind = range(len(top))\n",
        "labels = list(zip(top.issue_year, top.purpose, top.grade))\n",
        "plt.xticks(ind, labels, rotation = 90)\n",
        "\n",
        "plt.show()"
      ],
      "execution_count": null,
      "outputs": []
    },
    {
      "cell_type": "code",
      "metadata": {
        "id": "E7rI9FZvV7eU"
      },
      "source": [
        "accepted.purpose.unique()"
      ],
      "execution_count": null,
      "outputs": []
    },
    {
      "cell_type": "code",
      "metadata": {
        "id": "oBKC3cNRYpbZ"
      },
      "source": [
        "med_fund = pd.DataFrame(accepted.groupby(\"purpose\")[\"funded_amnt\"].median().sort_values(ascending = False))\n",
        "med_fund = med_fund.reset_index()\n",
        "med_fund = med_fund.rename(columns = {\"funded_amnt\":\"median_funded\"})\n",
        "med_fund "
      ],
      "execution_count": null,
      "outputs": []
    },
    {
      "cell_type": "code",
      "metadata": {
        "id": "KH0eZwJQZQ1L"
      },
      "source": [
        "mean_funded = pd.DataFrame(accepted.groupby(\"purpose\")[\"funded_amnt\"].mean().sort_values(ascending = False))\n",
        "mean_funded = mean_funded.reset_index()\n",
        "mean_funded = mean_funded.rename(columns = {\"funded_amnt\":\"mean_amount\"})\n",
        "mean_funded"
      ],
      "execution_count": null,
      "outputs": []
    },
    {
      "cell_type": "code",
      "metadata": {
        "id": "4h-yShjRZuRY"
      },
      "source": [
        "mean_funded[\"mean_amount\"] = mean_funded[\"mean_amount\"].apply(round)\n",
        "mean_funded\n"
      ],
      "execution_count": null,
      "outputs": []
    },
    {
      "cell_type": "code",
      "metadata": {
        "id": "OYj7k-AGc5NU"
      },
      "source": [
        "pd.DataFrame(accepted.groupby([\"grade\", \"purpose\"])[\"total_payment\", \"delinq_amnt\"].agg(\"median\", \"mean\")).sort_values(\"total_payment\", ascending = False).reset_index()"
      ],
      "execution_count": null,
      "outputs": []
    },
    {
      "cell_type": "code",
      "metadata": {
        "id": "xtiM8tXZe6Mn"
      },
      "source": [
        "delinq_total = pd.DataFrame(accepted.groupby([\"grade\", \"purpose\"])[\"total_payment\", \"delinq_amnt\"].mean()).sort_values(\"delinq_amnt\", ascending = False).reset_index()\n",
        "delinq_total"
      ],
      "execution_count": null,
      "outputs": []
    },
    {
      "cell_type": "code",
      "metadata": {
        "id": "ryo7mqGngwjx"
      },
      "source": [
        "plt.figure(figsize = (20,10))\n",
        "\n",
        "sns.scatterplot(delinq_total.delinq_amnt,\n",
        "                delinq_total.total_payment)\n",
        "\n",
        "plt.show()"
      ],
      "execution_count": null,
      "outputs": []
    },
    {
      "cell_type": "code",
      "metadata": {
        "id": "thrkvAJwmryI"
      },
      "source": [
        "plt.figure(figsize = (20,10))\n",
        "\n",
        "sns.scatterplot(delinq_total.delinq_amnt,\n",
        "                np.log(delinq_total.total_payment))\n",
        "\n",
        "plt.show()"
      ],
      "execution_count": null,
      "outputs": []
    },
    {
      "cell_type": "code",
      "metadata": {
        "id": "iLD1uztLqSgY"
      },
      "source": [
        "accepted.head()"
      ],
      "execution_count": null,
      "outputs": []
    },
    {
      "cell_type": "code",
      "metadata": {
        "id": "VaT7KHYUpVmE"
      },
      "source": [
        "#%%time\n",
        "#accepted.to_csv(\"/content/gdrive/MyDrive/NYC DSA Capstone Project/Data/accepted_2007_to_2018q4.csv/accepted.csv\")"
      ],
      "execution_count": null,
      "outputs": []
    },
    {
      "cell_type": "code",
      "metadata": {
        "id": "gxXRmFDAsEph"
      },
      "source": [
        "len(accepted.sub_grade.unique())"
      ],
      "execution_count": null,
      "outputs": []
    },
    {
      "cell_type": "code",
      "metadata": {
        "id": "G-qDWUldsknN"
      },
      "source": [
        "accepted.shape"
      ],
      "execution_count": null,
      "outputs": []
    },
    {
      "cell_type": "code",
      "metadata": {
        "id": "9Tl8QID_oC78"
      },
      "source": [
        "grade_int_rate = pd.DataFrame(accepted.groupby(\"grade\")[\"int_rate\"].mean()).sort_values(by = \"int_rate\", ascending = False).reset_index()\r\n",
        "grade_int_rate.int_rate = round(grade_int_rate.int_rate)\r\n",
        "grade_int_rate"
      ],
      "execution_count": null,
      "outputs": []
    },
    {
      "cell_type": "code",
      "metadata": {
        "id": "e-Oi7st6qEnM"
      },
      "source": [
        "plt.figure(figsize = (30,10))\r\n",
        "\r\n",
        "sns.boxplot(x = accepted.grade,\r\n",
        "            y = accepted.int_rate,\r\n",
        "            order = [\"G\", \"F\", \"E\", \"D\", \"C\", \"B\", \"A\"])\r\n",
        "\r\n",
        "plt.show()\r\n",
        "\r\n",
        "# Number of outliers seems to decrease with the quality of the loan \r\n",
        "# Higher quality loans are much more selective"
      ],
      "execution_count": null,
      "outputs": []
    },
    {
      "cell_type": "code",
      "metadata": {
        "id": "Fdfg5znKrYgg"
      },
      "source": [
        "subgrade_intrate = pd.DataFrame(accepted.groupby(\"sub_grade\")[\"int_rate\"].mean()).sort_values(by = \"int_rate\", ascending = False).reset_index()\r\n",
        "subgrade_intrate.int_rate = round(subgrade_intrate.int_rate, 1)\r\n",
        "subgrade_intrate"
      ],
      "execution_count": null,
      "outputs": []
    },
    {
      "cell_type": "code",
      "metadata": {
        "id": "S3O94yUstC9w"
      },
      "source": [
        "lst = [\"d5\", \"d6\", \"d1\"]\r\n",
        "sorted(lst)"
      ],
      "execution_count": null,
      "outputs": []
    },
    {
      "cell_type": "code",
      "metadata": {
        "id": "9-dUcFj8uEaH"
      },
      "source": [
        "sorted(subgrade_intrate.sub_grade)"
      ],
      "execution_count": null,
      "outputs": []
    },
    {
      "cell_type": "code",
      "metadata": {
        "id": "HaexpS-huM4X"
      },
      "source": [
        "%time\r\n",
        "plt.figure(figsize = (25,10))\r\n",
        "\r\n",
        "sns.boxplot(x = accepted.sub_grade,\r\n",
        "            y = accepted.int_rate,\r\n",
        "            order = sorted(accepted.sub_grade.unique(), reverse = True))\r\n",
        "\r\n",
        "plt.show()"
      ],
      "execution_count": null,
      "outputs": []
    },
    {
      "cell_type": "code",
      "metadata": {
        "id": "A_MWekQjx98a"
      },
      "source": [
        "np.mean(accepted.term == accepted.term.apply(int))"
      ],
      "execution_count": null,
      "outputs": []
    },
    {
      "cell_type": "code",
      "metadata": {
        "id": "pu23zUFFyUNY"
      },
      "source": [
        "accepted.term = accepted.term.apply(int)"
      ],
      "execution_count": null,
      "outputs": []
    },
    {
      "cell_type": "code",
      "metadata": {
        "id": "WQAqX3SivN9t"
      },
      "source": [
        "grade_term_rate = pd.DataFrame(accepted.groupby([\"grade\", \"term\"])[\"int_rate\"].mean()).sort_values(by = \"int_rate\", ascending = False).reset_index()\r\n",
        "grade_term_rate.int_rate = round(grade_term_rate.int_rate, 2)\r\n",
        "grade_term_rate"
      ],
      "execution_count": null,
      "outputs": []
    },
    {
      "cell_type": "code",
      "metadata": {
        "id": "2a5xA4qUyi05"
      },
      "source": [
        "pd.DataFrame(accepted.groupby([\"grade\", \"term\"])[\"int_rate\"].median()).sort_values(by = \"int_rate\", ascending = False).reset_index()"
      ],
      "execution_count": null,
      "outputs": []
    },
    {
      "cell_type": "code",
      "metadata": {
        "id": "J4rqeS8Kzz8S"
      },
      "source": [
        "pd.options.display.max_rows = None\r\n",
        "pd.DataFrame(accepted.groupby([\"sub_grade\", \"term\"])[\"int_rate\"].mean()).sort_values(by = \"int_rate\", ascending = False).reset_index()"
      ],
      "execution_count": null,
      "outputs": []
    },
    {
      "cell_type": "code",
      "metadata": {
        "id": "x5Qtk-To01kY"
      },
      "source": [
        "pd.DataFrame(accepted.groupby([\"sub_grade\", \"term\"])[\"int_rate\"].median()).sort_values(by = \"int_rate\", ascending = False).reset_index()"
      ],
      "execution_count": null,
      "outputs": []
    },
    {
      "cell_type": "code",
      "metadata": {
        "id": "zjC0Ph5v1SOz"
      },
      "source": [
        "accepted.term.unique()"
      ],
      "execution_count": null,
      "outputs": []
    },
    {
      "cell_type": "code",
      "metadata": {
        "id": "zY49zcH51DTF"
      },
      "source": [
        "plt.figure(figsize = (30,10))\r\n",
        "\r\n",
        "sns.boxplot(x = accepted.term,\r\n",
        "            y = accepted.int_rate)\r\n",
        "\r\n",
        "plt.show()"
      ],
      "execution_count": null,
      "outputs": []
    },
    {
      "cell_type": "code",
      "metadata": {
        "id": "M-dmrYvL2Alj"
      },
      "source": [
        "pd.DataFrame(accepted.groupby(\"year\")[\"int_rate\"].mean()).sort_values(by = \"int_rate\", ascending = False).reset_index()"
      ],
      "execution_count": null,
      "outputs": []
    },
    {
      "cell_type": "code",
      "metadata": {
        "id": "90QMkDfy3jja"
      },
      "source": [
        "plt.figure(figsize = (30,10))\r\n",
        "\r\n",
        "sns.boxplot(x = accepted.year,\r\n",
        "            y = accepted.int_rate,\r\n",
        "            order = sorted(accepted.year.unique()))\r\n",
        "\r\n",
        "plt.show()"
      ],
      "execution_count": null,
      "outputs": []
    },
    {
      "cell_type": "code",
      "metadata": {
        "id": "VL7KHGkc4Pji"
      },
      "source": [
        "%time\r\n",
        "\r\n",
        "plt.figure(figsize = (30,10))\r\n",
        "\r\n",
        "sns.lineplot(x = accepted.issue_year,\r\n",
        "            y = accepted.int_rate)\r\n",
        "\r\n",
        "plt.show()"
      ],
      "execution_count": null,
      "outputs": []
    },
    {
      "cell_type": "code",
      "metadata": {
        "id": "P7LOalhaAWY7"
      },
      "source": [
        "count_by_year = pd.DataFrame(accepted.groupby([\"issue_year\"])[\"id\"].count()).sort_values(by = \"id\", ascending = False).reset_index()\r\n",
        "count_by_year = count_by_year.rename(columns = {\"id\":\"count\"})\r\n",
        "count_by_year\r\n"
      ],
      "execution_count": null,
      "outputs": []
    },
    {
      "cell_type": "code",
      "metadata": {
        "id": "lFMXeVtJ51H8"
      },
      "source": [
        "year_purpose = pd.DataFrame(accepted.groupby([\"issue_year\", \"purpose\"])[\"id\"].count()).sort_values(by = \"id\", ascending = False).reset_index()\r\n",
        "house_trend = year_purpose[year_purpose.purpose == \"house\"].reset_index()\r\n",
        "house_trend.drop([\"index\", \"purpose\"], axis = 1, inplace  = True)\r\n",
        "house_trend = house_trend.rename(columns = {\"id\":\"count\"})\r\n",
        "house_trend[\"count\"] = house_trend[\"count\"]/count_by_year[\"count\"]\r\n",
        "house_trend"
      ],
      "execution_count": null,
      "outputs": []
    },
    {
      "cell_type": "code",
      "metadata": {
        "id": "Hg7h6qrj-Xwu"
      },
      "source": [
        "plt.figure(figsize = (30,10))\r\n",
        "\r\n",
        "sns.barplot(x = house_trend.issue_year,\r\n",
        "            y = house_trend[\"count\"],\r\n",
        "            palette = \"icefire\")\r\n",
        "\r\n",
        "plt.xticks(fontsize = 15)\r\n",
        "plt.title(\" Total Proportion of \\n  Housing Loans by Year \", fontsize = 40)\r\n",
        "plt.show()"
      ],
      "execution_count": null,
      "outputs": []
    },
    {
      "cell_type": "code",
      "metadata": {
        "id": "Az_twRK9ER5R"
      },
      "source": [
        "accepted.loan_status.unique()"
      ],
      "execution_count": null,
      "outputs": []
    },
    {
      "cell_type": "code",
      "metadata": {
        "id": "_-mOcj9dDiiK"
      },
      "source": [
        "status_count =  pd.DataFrame(accepted.groupby(\"loan_status\")[\"id\"].count()).sort_values(by = \"id\", ascending = False).reset_index()\r\n",
        "status_count.id = round(100 * status_count.id/sum(status_count.id), 3)\r\n",
        "status_count = status_count.rename(columns = {\"id\":\"percentage\"})\r\n",
        "status_count"
      ],
      "execution_count": null,
      "outputs": []
    },
    {
      "cell_type": "code",
      "metadata": {
        "id": "9H_6ElxZN5FY"
      },
      "source": [
        "accepted.settlement_status.unique()"
      ],
      "execution_count": null,
      "outputs": []
    },
    {
      "cell_type": "code",
      "metadata": {
        "id": "GuiqXsRVLQ_3"
      },
      "source": [
        "settlement_count = pd.DataFrame(accepted.groupby([\"grade\", \"settlement_status\", \"term\"])[\"id\"].count())#.sort_values(by = \"id\", ascending = False).reset_index()\r\n",
        "settlement_count.id = round(100 *  settlement_count.id / sum(settlement_count.id),3) \r\n",
        "settlement_count = settlement_count.rename(columns = {\"id\":\"percentage\"})\r\n",
        "settlement_count"
      ],
      "execution_count": null,
      "outputs": []
    },
    {
      "cell_type": "code",
      "metadata": {
        "id": "wBNgz5PWOI-C"
      },
      "source": [
        "#pd.options.display.max_rows = 10\r\n",
        "accepted.last_pymnt_d"
      ],
      "execution_count": null,
      "outputs": []
    },
    {
      "cell_type": "code",
      "metadata": {
        "id": "qkIuhC7QRdKb"
      },
      "source": [
        "# %time\r\n",
        "# accepted.last_pymnt_d = accepted.last_pymnt_d.apply(lambda date: re.sub(pattern = \"-\", repl = \"\", string = date) if isinstance(date, str) else date)\r\n",
        "# accepted.last_pymnt_d"
      ],
      "execution_count": null,
      "outputs": []
    },
    {
      "cell_type": "code",
      "metadata": {
        "id": "DrhFSn-_gFm9"
      },
      "source": [
        "accepted.last_pymnt_d = pd.to_datetime(accepted.last_pymnt_d,\r\n",
        "                                       format = \"%Y%m%d\",\r\n",
        "                                       yearfirst = True)\r\n",
        "\r\n",
        "accepted.last_pymnt_d"
      ],
      "execution_count": null,
      "outputs": []
    },
    {
      "cell_type": "code",
      "metadata": {
        "id": "y2xmnisVhT0A"
      },
      "source": [
        "accepted = accepted.rename(columns = {\"year\":\"issue_year\"})\r\n",
        "accepted.issue_year"
      ],
      "execution_count": null,
      "outputs": []
    },
    {
      "cell_type": "code",
      "metadata": {
        "id": "RExYy4nDwLdB"
      },
      "source": [
        "accepted.issue_d = pd.to_datetime(accepted.issue_d,\r\n",
        "                                  yearfirst = True,\r\n",
        "                                  format = \"%Y-%m-%d\")\r\n",
        "\r\n",
        "accepted.issue_d"
      ],
      "execution_count": null,
      "outputs": []
    },
    {
      "cell_type": "code",
      "metadata": {
        "id": "YADeUgiTw76i"
      },
      "source": [
        "accepted[\"loan_duration\"] = accepted.last_pymnt_d - accepted.issue_d\r\n",
        "accepted[\"loan_duration\"] = accepted[\"loan_duration\"].apply(lambda x: x.days)\r\n",
        "accepted[\"loan_duration\"]"
      ],
      "execution_count": null,
      "outputs": []
    },
    {
      "cell_type": "code",
      "metadata": {
        "id": "tLjRdZCU5ZSw"
      },
      "source": [
        "plt.figure(figsize = (30,10))\r\n",
        "\r\n",
        "sns.boxplot(x = accepted.loan_status,\r\n",
        "            y = accepted.loan_duration)\r\n",
        "\r\n",
        "plt.show()"
      ],
      "execution_count": null,
      "outputs": []
    },
    {
      "cell_type": "code",
      "metadata": {
        "id": "EMRKHLnPlSIX"
      },
      "source": [
        "# %%time\r\n",
        "# (accepted.last_pymnt_d - accepted.issue_d).apply(lambda date: re.sub(pattern = \"([\\d]{0,4})([^\\n]*)\", repl = r\"\\1\", string = str(date)) if isinstance(str(date), str) \\\r\n",
        "#                                                 else  re.sub(pattern = \".*\", repl = r\"0\", string = date)).apply(lambda x: int(x) if x != \"\" else x)"
      ],
      "execution_count": null,
      "outputs": []
    },
    {
      "cell_type": "code",
      "metadata": {
        "id": "p4rFlN17xn4l"
      },
      "source": [
        "sum(accepted.loan_duration.isnull())"
      ],
      "execution_count": null,
      "outputs": []
    },
    {
      "cell_type": "code",
      "metadata": {
        "id": "m_gcqozV_uhg"
      },
      "source": [
        "# %%time\r\n",
        "# accepted.to_csv(\"/content/gdrive/MyDrive/NYC DSA Capstone Project/Data/accepted_2007_to_2018q4.csv/accepted.csv\")"
      ],
      "execution_count": null,
      "outputs": []
    },
    {
      "cell_type": "code",
      "metadata": {
        "id": "ji3HzwTvA-gf"
      },
      "source": [
        "(accepted.last_pymnt_d - accepted.issue_d).apply(lambda x: x.days)"
      ],
      "execution_count": null,
      "outputs": []
    },
    {
      "cell_type": "code",
      "metadata": {
        "id": "O9hwUyAWDARW"
      },
      "source": [
        "accepted.loan_status.unique()"
      ],
      "execution_count": null,
      "outputs": []
    },
    {
      "cell_type": "code",
      "metadata": {
        "id": "CZYt6WIQIeyI"
      },
      "source": [
        "def function(x):\r\n",
        "    if x in ['Late (31-120 days)', 'Late (16-30 days)']:\r\n",
        "        return \"Late\"\r\n",
        "    elif x == 'Does not meet the credit policy. Status:Charged Off':\r\n",
        "        return \"Charged Off\"\r\n",
        "    elif x == 'Does not meet the credit policy. Status:Fully Paid':\r\n",
        "        return \"Fully Paid\"\r\n",
        "    else:\r\n",
        "        return x"
      ],
      "execution_count": null,
      "outputs": []
    },
    {
      "cell_type": "code",
      "metadata": {
        "id": "lK0SogMRE6Tv"
      },
      "source": [
        "accepted.loan_status.apply(function).unique()"
      ],
      "execution_count": null,
      "outputs": []
    },
    {
      "cell_type": "code",
      "metadata": {
        "id": "LRfY-cNSJscD"
      },
      "source": [
        "accepted[\"loan_status_trim\"] = accepted.loan_status.apply(function)\r\n",
        "accepted.loan_status_trim"
      ],
      "execution_count": null,
      "outputs": []
    },
    {
      "cell_type": "code",
      "metadata": {
        "id": "vb3z4C3aF1TA"
      },
      "source": [
        "'Late (31-120 days)' in ['Late (31-120 days)', 'Late (16-30 days)']"
      ],
      "execution_count": null,
      "outputs": []
    },
    {
      "cell_type": "code",
      "metadata": {
        "id": "w_1kSFRBKBpi"
      },
      "source": [
        "plt.figure(figsize = (30,10))\r\n",
        "\r\n",
        "sns.boxplot(x = accepted.loan_status_trim,\r\n",
        "            y = accepted.loan_duration)\r\n",
        "\r\n",
        "plt.show()"
      ],
      "execution_count": null,
      "outputs": []
    },
    {
      "cell_type": "code",
      "metadata": {
        "id": "FC5T9MvgNPX9"
      },
      "source": [
        "plt.figure(figsize = (30,10))\r\n",
        "\r\n",
        "sns.boxplot(x = accepted.loan_status_trim,\r\n",
        "            y = accepted.loan_duration/30)\r\n",
        "\r\n",
        "plt.title(\"Distribution of Loan Duration \\n by Loan Status\", fontsize = 30)\r\n",
        "plt.xticks(fontsize = 15)\r\n",
        "plt.yticks(fontsize = 15)\r\n",
        "plt.ylabel(\"Loan Duration in Months\", fontsize = 20)\r\n",
        "plt.xlabel(\"Loan Status\", fontsize = 20)\r\n",
        "\r\n",
        "plt.show()"
      ],
      "execution_count": null,
      "outputs": []
    },
    {
      "cell_type": "code",
      "metadata": {
        "id": "0_QULTnkTr6s"
      },
      "source": [
        "%%time\r\n",
        "\r\n",
        "plt.figure(figsize = (30,10))\r\n",
        "\r\n",
        "sns.violinplot(x = accepted.loan_status_trim,\r\n",
        "            y = accepted.loan_duration/30)\r\n",
        "\r\n",
        "plt.title(\"Distribution of Loan Duration \\n by Loan Status\", fontsize = 30)\r\n",
        "plt.xticks(fontsize = 15)\r\n",
        "plt.yticks(fontsize = 15)\r\n",
        "plt.ylabel(\"Loan Duration in Months\", fontsize = 20)\r\n",
        "plt.xlabel(\"Loan Status\", fontsize = 20)\r\n",
        "\r\n",
        "plt.show()"
      ],
      "execution_count": null,
      "outputs": []
    },
    {
      "cell_type": "code",
      "metadata": {
        "id": "5SL5XKEDPp93"
      },
      "source": [
        "pd.options.display.max_rows = None\r\n",
        "pd.DataFrame(accepted.groupby([\"loan_status_trim\", \"term\"])[\"loan_duration\"].median())"
      ],
      "execution_count": null,
      "outputs": []
    },
    {
      "cell_type": "code",
      "metadata": {
        "id": "cK8bdYmIS67I"
      },
      "source": [
        "plt.figure(figsize = (30,10))\r\n",
        "\r\n",
        "sns.violinplot(x = accepted.grade,\r\n",
        "               y = accepted.loan_duration/30,\r\n",
        "               order = sorted(accepted.grade.unique()))\r\n",
        "\r\n",
        "plt.title(\"Distribution of Loan Duration \\n by Loan Status\", fontsize = 30)\r\n",
        "plt.xticks(fontsize = 15)\r\n",
        "plt.yticks(fontsize = 15)\r\n",
        "plt.ylabel(\"Loan Duration in Months\", fontsize = 20)\r\n",
        "plt.xlabel(\"Loan Status\", fontsize = 20)\r\n",
        "\r\n",
        "plt.show()"
      ],
      "execution_count": null,
      "outputs": []
    },
    {
      "cell_type": "code",
      "metadata": {
        "id": "wDQMA3uhes-J"
      },
      "source": [
        "grade_term_duration = pd.DataFrame(accepted.groupby([\"grade\", \"term\"])[\"loan_duration\"]).reset_index()\r\n",
        "grade_term_duration"
      ],
      "execution_count": null,
      "outputs": []
    },
    {
      "cell_type": "code",
      "metadata": {
        "id": "n__eJ23cjSFI"
      },
      "source": [
        "pd.options.display.max_rows = 10\r\n",
        "\r\n",
        "grade_term_duration.drop(\"index\", inplace = True, axis = 1)"
      ],
      "execution_count": null,
      "outputs": []
    },
    {
      "cell_type": "code",
      "metadata": {
        "id": "UC5wChKuocLz"
      },
      "source": [
        "grade_term_duration = pd.DataFrame(accepted.groupby([\"grade\", \"term\"])[\"loan_duration\"], columns = [\"Grade_Term\", \"Loan_Duration\"])\r\n",
        "grade_term_duration"
      ],
      "execution_count": null,
      "outputs": []
    },
    {
      "cell_type": "code",
      "metadata": {
        "id": "dovlD_JfpgLf"
      },
      "source": [
        "plt.figure(figsize = (30,10))\r\n",
        "\r\n",
        "sns.boxplot(x = grade_term_duration.Grade_Term,\r\n",
        "            y = accepted.loan_duration/30)\r\n",
        "\r\n",
        "plt.show()"
      ],
      "execution_count": null,
      "outputs": []
    },
    {
      "cell_type": "code",
      "metadata": {
        "id": "wxULl01crgo1"
      },
      "source": [
        "plt.figure(figsize = (30,10))\r\n",
        "\r\n",
        "sns.boxplot(x = accepted.term,\r\n",
        "            y = accepted.loan_duration/30)\r\n",
        "\r\n",
        "plt.show()"
      ],
      "execution_count": null,
      "outputs": []
    },
    {
      "cell_type": "code",
      "metadata": {
        "id": "1gafZ67duWx5"
      },
      "source": [
        "term36 = accepted[accepted.term == 36.0]\r\n",
        "term36"
      ],
      "execution_count": null,
      "outputs": []
    },
    {
      "cell_type": "code",
      "metadata": {
        "id": "UaZBecG-vXEb"
      },
      "source": [
        "plt.figure(figsize = (30,10))\r\n",
        "\r\n",
        "sns.violinplot(x = term36.grade,\r\n",
        "               y = term36.loan_duration/30,\r\n",
        "               order = sorted(term36.grade.unique()))\r\n",
        "\r\n",
        "plt.title(\"Duration of 36-Month Loans \\n by Loan Grade\", fontsize = 30)\r\n",
        "plt.xticks(fontsize = 15)\r\n",
        "plt.yticks(fontsize = 15)\r\n",
        "plt.xlabel(\"Grade\", fontsize = 20)\r\n",
        "plt.ylabel(\"Loan Duration (Months)\", fontsize = 20)\r\n",
        "\r\n",
        "plt.show()"
      ],
      "execution_count": null,
      "outputs": []
    },
    {
      "cell_type": "code",
      "metadata": {
        "id": "2B2FUGxcwd9k"
      },
      "source": [
        "term36_fullypaid = accepted.loc[(accepted.term == 36) & (accepted.loan_status == \"Fully Paid\")]\r\n",
        "term36_fullypaid"
      ],
      "execution_count": null,
      "outputs": []
    },
    {
      "cell_type": "code",
      "metadata": {
        "id": "HSksJDf_xf7m"
      },
      "source": [
        "plt.figure(figsize = (30,10))\r\n",
        "\r\n",
        "sns.violinplot(x = term36_fullypaid.grade,\r\n",
        "               y = term36_fullypaid.loan_duration/30,\r\n",
        "               order = sorted(term36_fullypaid.grade.unique()))\r\n",
        "\r\n",
        "plt.show()"
      ],
      "execution_count": null,
      "outputs": []
    },
    {
      "cell_type": "code",
      "metadata": {
        "id": "5RQgyqlQ47rp"
      },
      "source": [
        "# Why do more loans in the lower grades get paid off earlier than the higher grades?\r\n",
        "# Higher interest rates put more pressure on the borrower?\r\n",
        "# Average loan amounts differ?"
      ],
      "execution_count": null,
      "outputs": []
    },
    {
      "cell_type": "code",
      "metadata": {
        "id": "SW3UswTH6J8I"
      },
      "source": [
        "plt.figure(figsize = (30,10))\r\n",
        "\r\n",
        "sns.boxplot(x = term36_fullypaid.grade,\r\n",
        "               y = term36_fullypaid.int_rate,\r\n",
        "               order = sorted(term36_fullypaid.grade.unique()))\r\n",
        "\r\n",
        "plt.show()"
      ],
      "execution_count": null,
      "outputs": []
    },
    {
      "cell_type": "code",
      "metadata": {
        "id": "eQshRG7O6nlc"
      },
      "source": [
        "plt.figure(figsize = (30,10))\r\n",
        "\r\n",
        "sns.boxplot(x = term36_fullypaid.grade,\r\n",
        "               y = term36_fullypaid.total_payment,\r\n",
        "               order = sorted(term36_fullypaid.grade.unique()))\r\n",
        "\r\n",
        "plt.title(\"Total Value of Fully Paid \\n 36-Month Loans\", fontsize = 30)\r\n",
        "plt.xticks(fontsize = 15)\r\n",
        "plt.yticks(fontsize = 15)\r\n",
        "plt.xlabel(\"Grade\", fontsize = 20)\r\n",
        "plt.ylabel(\"Installment times Term\", fontsize = 20)\r\n",
        "\r\n",
        "plt.show()"
      ],
      "execution_count": null,
      "outputs": []
    },
    {
      "cell_type": "code",
      "metadata": {
        "id": "cF5nlV9A7VYC"
      },
      "source": [
        "plt.figure(figsize = (30,10))\r\n",
        "\r\n",
        "sns.violinplot(x = term36_fullypaid.grade,\r\n",
        "               y = term36_fullypaid.total_payment,\r\n",
        "               order = sorted(term36_fullypaid.grade.unique()))\r\n",
        "\r\n",
        "plt.title(\"Total Value of Fully Paid \\n 36-Month Loans\", fontsize = 30)\r\n",
        "plt.xticks(fontsize = 15)\r\n",
        "plt.yticks(fontsize = 15)\r\n",
        "plt.xlabel(\"Grade\", fontsize = 20)\r\n",
        "plt.ylabel(\"Installment times Term\", fontsize = 20)\r\n",
        "\r\n",
        "plt.show()\r\n",
        "\r\n",
        "#The total value is inflated by the varied interest rates, therefore this can be misleading"
      ],
      "execution_count": null,
      "outputs": []
    },
    {
      "cell_type": "code",
      "metadata": {
        "id": "U2LtNQoPyQiS"
      },
      "source": [
        "term60_fullypaid = accepted.loc[(accepted.term == 60) & (accepted.loan_status == \"Fully Paid\")]\r\n",
        "term60_fullypaid"
      ],
      "execution_count": null,
      "outputs": []
    },
    {
      "cell_type": "code",
      "metadata": {
        "id": "FHofIh4Rzfiv"
      },
      "source": [
        "plt.figure(figsize = (30,10))\r\n",
        "\r\n",
        "sns.violinplot(x = term60_fullypaid.grade,\r\n",
        "               y = term60_fullypaid.loan_duration/30,\r\n",
        "               order = sorted(term36_fullypaid.grade.unique()))\r\n",
        "\r\n",
        "plt.title(\"Loan Duration for \\n 60-Month Loans\", fontsize = 30)\r\n",
        "plt.xticks(fontsize = 15)\r\n",
        "plt.yticks(fontsize = 15)\r\n",
        "plt.xlabel(\"Grade\", fontsize = 20)\r\n",
        "plt.ylabel(\"Loan Duration (Months)\", fontsize = 20)\r\n",
        "\r\n",
        "plt.show()"
      ],
      "execution_count": null,
      "outputs": []
    },
    {
      "cell_type": "code",
      "metadata": {
        "id": "u3xUrd98JUVc"
      },
      "source": [
        "plt.figure(figsize = (30,10))\r\n",
        "\r\n",
        "sns.violinplot(x = term60_fullypaid.grade,\r\n",
        "               y = term60_fullypaid.loan_amnt,\r\n",
        "               order = sorted(term60_fullypaid.grade.unique()))\r\n",
        "\r\n",
        "plt.title(\"Loan Amount for \\n 60-Month Loans\", fontsize = 30)\r\n",
        "plt.xticks(fontsize = 15)\r\n",
        "plt.yticks(fontsize = 15)\r\n",
        "plt.xlabel(\"Grade\", fontsize = 20)\r\n",
        "plt.ylabel(\"Loan Amount (US$)\", fontsize = 20)\r\n",
        "\r\n",
        "plt.show()"
      ],
      "execution_count": null,
      "outputs": []
    },
    {
      "cell_type": "code",
      "metadata": {
        "id": "qm9rQI090Gt1"
      },
      "source": [
        "plt.figure(figsize = (30,10))\r\n",
        "\r\n",
        "sns.boxplot(x = term36_fullypaid.grade,\r\n",
        "               y = term36_fullypaid.loan_amnt,\r\n",
        "               order = sorted(term36_fullypaid.grade.unique()))\r\n",
        "\r\n",
        "plt.title(\"Loan of Fully Paid \\n 36-Month Loans\", fontsize = 30)\r\n",
        "plt.xticks(fontsize = 15)\r\n",
        "plt.yticks(fontsize = 15)\r\n",
        "plt.xlabel(\"Grade\", fontsize = 20)\r\n",
        "plt.ylabel(\"Loan Amount\", fontsize = 20)\r\n",
        "\r\n",
        "plt.show()"
      ],
      "execution_count": null,
      "outputs": []
    },
    {
      "cell_type": "code",
      "metadata": {
        "id": "-cFW3y8nAyd5"
      },
      "source": [
        "plt.figure(figsize = (30,10))\r\n",
        "\r\n",
        "sns.violinplot(x = term36_fullypaid.grade,\r\n",
        "               y = term36_fullypaid.loan_amnt,\r\n",
        "               order = sorted(term36_fullypaid.grade.unique()))\r\n",
        "\r\n",
        "plt.title(\"Loan Amount of Fully Paid \\n 36-Month Loans\", fontsize = 30)\r\n",
        "plt.xticks(fontsize = 15)\r\n",
        "plt.yticks(fontsize = 15)\r\n",
        "plt.xlabel(\"Grade\", fontsize = 20)\r\n",
        "plt.ylabel(\"Loan Amount\", fontsize = 20)\r\n",
        "\r\n",
        "plt.show()"
      ],
      "execution_count": null,
      "outputs": []
    },
    {
      "cell_type": "markdown",
      "metadata": {
        "id": "F3zBBA6nN-0M"
      },
      "source": [
        "Profitability of the loan (Fully Paid): (total_pymnt - loan_amnt) / loan_amnt\r\n",
        "\r\n",
        "Gives percentage of principal returned as profit"
      ]
    },
    {
      "cell_type": "code",
      "metadata": {
        "id": "MXM9rOUwOfC8"
      },
      "source": [
        "# Return on investment\r\n",
        "term36_fullypaid[\"return_36\"] = 1 + ((term36_fullypaid.total_pymnt - term36_fullypaid.loan_amnt) / term36_fullypaid.loan_amnt)\r\n",
        "term60_fullypaid[\"return_60\"] = 1 + ((term60_fullypaid.total_pymnt - term60_fullypaid.loan_amnt) / term60_fullypaid.loan_amnt)\r\n",
        "print(term36_fullypaid.return_36)\r\n",
        "print(term60_fullypaid.return_60)"
      ],
      "execution_count": null,
      "outputs": []
    },
    {
      "cell_type": "code",
      "metadata": {
        "id": "21tJCP0gRQzX"
      },
      "source": [
        "plt.figure(figsize = (30,10))\r\n",
        "\r\n",
        "sns.boxenplot(x = term36_fullypaid.grade,\r\n",
        "              y = term36_fullypaid.return_36,\r\n",
        "              order = sorted(term36_fullypaid.grade.unique()),\r\n",
        "              palette = \"Blues\")\r\n",
        "\r\n",
        "plt.title(\"Profit Percentage of Fully Paid \\n 36-Month Loans\", fontsize = 30)\r\n",
        "plt.xticks(fontsize = 15)\r\n",
        "plt.yticks(fontsize = 15)\r\n",
        "plt.xlabel(\"Grade\", fontsize = 20)\r\n",
        "plt.ylabel(\"Profit Percentage\", fontsize = 20)\r\n",
        "\r\n",
        "plt.show()"
      ],
      "execution_count": null,
      "outputs": []
    },
    {
      "cell_type": "code",
      "metadata": {
        "id": "0SJ6hyNWUot6"
      },
      "source": [
        "plt.figure(figsize = (30,10))\r\n",
        "\r\n",
        "sns.boxenplot(x = term60_fullypaid.grade,\r\n",
        "              y = term60_fullypaid.return_60,\r\n",
        "              order = sorted(term36_fullypaid.grade.unique()),\r\n",
        "              palette = \"YlOrBr\")\r\n",
        "\r\n",
        "plt.title(\"Profit Percentage of Fully Paid \\n 60-Month Loans\", fontsize = 30)\r\n",
        "plt.xticks(fontsize = 15)\r\n",
        "plt.yticks(fontsize = 15)\r\n",
        "plt.xlabel(\"Grade\", fontsize = 20)\r\n",
        "plt.ylabel(\"Profit Percentage\", fontsize = 20)\r\n",
        "\r\n",
        "plt.show()"
      ],
      "execution_count": null,
      "outputs": []
    },
    {
      "cell_type": "code",
      "metadata": {
        "id": "Jsn8445hV1-6"
      },
      "source": [
        "# %%time\r\n",
        "# accepted.to_csv(\"/content/gdrive/MyDrive/NYC DSA Capstone Project/Data/accepted_2007_to_2018q4.csv/accepted.csv\")"
      ],
      "execution_count": null,
      "outputs": []
    },
    {
      "cell_type": "code",
      "metadata": {
        "id": "TkvHLYsY4aQs"
      },
      "source": [
        "term36_default_chargedoff = accepted.loc[(accepted.term == 36) & ((accepted.loan_status_trim == \"Default\") | (accepted.loan_status_trim == \"Charged Off\"))]\r\n",
        "term36_default_chargedoff"
      ],
      "execution_count": null,
      "outputs": []
    },
    {
      "cell_type": "code",
      "metadata": {
        "id": "RprQFOAe7akI"
      },
      "source": [
        "term36_default_chargedoff[\"profit\"] = 1 + ((term36_default_chargedoff.total_pymnt - term36_default_chargedoff.loan_amnt) / term36_default_chargedoff.loan_amnt)"
      ],
      "execution_count": null,
      "outputs": []
    },
    {
      "cell_type": "code",
      "metadata": {
        "id": "XvrFFuuv_A9H"
      },
      "source": [
        "plt.figure(figsize = (30,10))\r\n",
        "\r\n",
        "sns.boxenplot(x = term36_default_chargedoff.grade,\r\n",
        "              y = term36_default_chargedoff.profit,\r\n",
        "              order = sorted(term36_default_chargedoff.grade.unique()),\r\n",
        "              palette = \"YlOrBr\")\r\n",
        "\r\n",
        "plt.title(\"Profit Percentage of \\n Default or Charged Off \\n 36-Month Loans\", fontsize = 30)\r\n",
        "plt.xticks(fontsize = 15)\r\n",
        "plt.yticks(fontsize = 15)\r\n",
        "plt.xlabel(\"Grade\", fontsize = 20)\r\n",
        "plt.ylabel(\"Profit Percentage\", fontsize = 20)\r\n",
        "\r\n",
        "plt.show()"
      ],
      "execution_count": null,
      "outputs": []
    },
    {
      "cell_type": "code",
      "metadata": {
        "id": "vWl96dtPAASr"
      },
      "source": [
        "term60_default_chargedoff = accepted.loc[(accepted.term == 60) & ((accepted.loan_status_trim == \"Default\") | (accepted.loan_status_trim == \"Charged Off\"))]\r\n",
        "term60_default_chargedoff"
      ],
      "execution_count": null,
      "outputs": []
    },
    {
      "cell_type": "code",
      "metadata": {
        "id": "oaErrVUWAF2R"
      },
      "source": [
        "term60_default_chargedoff[\"profit\"] = 1 + ((term60_default_chargedoff.total_pymnt - term60_default_chargedoff.loan_amnt) / term60_default_chargedoff.loan_amnt)"
      ],
      "execution_count": null,
      "outputs": []
    },
    {
      "cell_type": "code",
      "metadata": {
        "id": "3aIX0L2uARRI"
      },
      "source": [
        "plt.figure(figsize = (30,10))\r\n",
        "\r\n",
        "sns.boxenplot(x = term60_default_chargedoff.grade,\r\n",
        "              y = term60_default_chargedoff.profit,\r\n",
        "              order = sorted(term60_default_chargedoff.grade.unique()),\r\n",
        "              palette = \"Greens\")\r\n",
        "\r\n",
        "plt.title(\"Profit Percentage of \\n Default or Charged Off \\n 60-Month Loans\", fontsize = 30)\r\n",
        "plt.xticks(fontsize = 15)\r\n",
        "plt.yticks(fontsize = 15)\r\n",
        "plt.xlabel(\"Grade\", fontsize = 20)\r\n",
        "plt.ylabel(\"Profit Percentage\", fontsize = 20)\r\n",
        "\r\n",
        "plt.show()"
      ],
      "execution_count": null,
      "outputs": []
    },
    {
      "cell_type": "code",
      "metadata": {
        "id": "1mlsdAfCBgWX"
      },
      "source": [
        "plt.figure(figsize = (30,10))\r\n",
        "\r\n",
        "sns.violinplot(x = term36_default_chargedoff.grade,\r\n",
        "               y = term36_default_chargedoff.loan_amnt,\r\n",
        "               order = sorted(term36_default_chargedoff.grade.unique()))\r\n",
        "\r\n",
        "plt.title(\"Loan Amount of \\n Default or Charged Off \\n 36-Month Loans\", fontsize = 30)\r\n",
        "plt.xticks(fontsize = 15)\r\n",
        "plt.yticks(fontsize = 15)\r\n",
        "plt.xlabel(\"Grade\", fontsize = 20)\r\n",
        "plt.ylabel(\"Loan Amount\", fontsize = 20)\r\n",
        "\r\n",
        "plt.show()"
      ],
      "execution_count": null,
      "outputs": []
    },
    {
      "cell_type": "code",
      "metadata": {
        "id": "dm9zInscCDti"
      },
      "source": [
        "plt.figure(figsize = (30,10))\r\n",
        "\r\n",
        "sns.violinplot(x = term60_default_chargedoff.grade,\r\n",
        "               y = term60_default_chargedoff.loan_amnt,\r\n",
        "               order = sorted(term60_default_chargedoff.grade.unique()))\r\n",
        "\r\n",
        "plt.title(\"Loan Amount of \\n Default or Charged Off \\n 60-Month Loans\", fontsize = 30)\r\n",
        "plt.xticks(fontsize = 15)\r\n",
        "plt.yticks(fontsize = 15)\r\n",
        "plt.xlabel(\"Grade\", fontsize = 20)\r\n",
        "plt.ylabel(\"Loan Amount\", fontsize = 20)\r\n",
        "\r\n",
        "plt.show()"
      ],
      "execution_count": null,
      "outputs": []
    },
    {
      "cell_type": "code",
      "metadata": {
        "id": "YEYISsYSDjb8"
      },
      "source": [
        "plt.figure(figsize = (30,10))\r\n",
        "\r\n",
        "sns.violinplot(x = term36_fullypaid.grade,\r\n",
        "               y = term36_fullypaid.annual_inc_joint,\r\n",
        "               order = sorted(term36_fullypaid.grade.unique()))\r\n",
        "\r\n",
        "plt.title(\"Annual Joint Income of \\n Fully Paid \\n 36-Month Loans\", fontsize = 30)\r\n",
        "plt.xticks(fontsize = 15)\r\n",
        "plt.yticks(fontsize = 15)\r\n",
        "plt.xlabel(\"Grade\", fontsize = 20)\r\n",
        "plt.ylabel(\"Annual Joint Income (Millions)\", fontsize = 20)\r\n",
        "\r\n",
        "plt.show()"
      ],
      "execution_count": null,
      "outputs": []
    },
    {
      "cell_type": "code",
      "metadata": {
        "id": "4U0wVv3hE4Zn"
      },
      "source": [
        "plt.figure(figsize = (30,10))\r\n",
        "\r\n",
        "sns.boxplot(x = term36_fullypaid.grade,\r\n",
        "               y = term36_fullypaid.annual_inc_joint,\r\n",
        "               order = sorted(term36_fullypaid.grade.unique()))\r\n",
        "\r\n",
        "plt.title(\"Annual Joint Income of \\n Fully Paid \\n 36-Month Loans\", fontsize = 30)\r\n",
        "plt.xticks(fontsize = 15)\r\n",
        "plt.yticks(fontsize = 15)\r\n",
        "plt.xlabel(\"Grade\", fontsize = 20)\r\n",
        "plt.ylabel(\"Annual Joint Income (Millions)\", fontsize = 20)\r\n",
        "\r\n",
        "plt.show()"
      ],
      "execution_count": null,
      "outputs": []
    },
    {
      "cell_type": "code",
      "metadata": {
        "id": "azRb5fVaFMld"
      },
      "source": [
        "np.mean(accepted.annual_inc_joint.isnull())"
      ],
      "execution_count": null,
      "outputs": []
    },
    {
      "cell_type": "code",
      "metadata": {
        "id": "cnBKh1GcGgST"
      },
      "source": [
        "accepted[[\"annual_inc\", \"annual_inc_joint\"]]"
      ],
      "execution_count": null,
      "outputs": []
    },
    {
      "cell_type": "code",
      "metadata": {
        "id": "fdJpfBPVGyQr"
      },
      "source": [
        "np.mean(accepted.annual_inc == accepted.annual_inc_joint)"
      ],
      "execution_count": null,
      "outputs": []
    },
    {
      "cell_type": "markdown",
      "metadata": {
        "id": "g0ZfLpLXHCIk"
      },
      "source": [
        "Impute missing values in Annual Joint Income (annual_inc_joint)\r\n",
        "If missing, impute annual_inc"
      ]
    },
    {
      "cell_type": "code",
      "metadata": {
        "id": "GOLb1Z9nJt6B"
      },
      "source": [
        "math.isnan(accepted.annual_inc_joint[0])"
      ],
      "execution_count": null,
      "outputs": []
    },
    {
      "cell_type": "code",
      "metadata": {
        "id": "B2RixGh3HdaF"
      },
      "source": [
        "# %%time\r\n",
        "# accepted[\"annual_inc_joint\"] = accepted[[\"annual_inc\", \"annual_inc_joint\"]].apply(max, axis = 1)\r\n",
        "# accepted[\"annual_inc_joint\"]"
      ],
      "execution_count": null,
      "outputs": []
    },
    {
      "cell_type": "code",
      "metadata": {
        "id": "zvyCl2DaPhxe"
      },
      "source": [
        "# %%time\r\n",
        "# accepted.to_csv(\"/content/gdrive/MyDrive/NYC DSA Capstone Project/Data/accepted_2007_to_2018q4.csv/accepted.csv\")"
      ],
      "execution_count": null,
      "outputs": []
    },
    {
      "cell_type": "code",
      "metadata": {
        "id": "oQ13xOn3R6vc"
      },
      "source": [
        "terminated36 = accepted.loc[(accepted.term == 36) & ((accepted.loan_status == \"Default\") | (accepted.loan_status == \"Charged Off\") | (accepted.loan_status == \"Fully Paid\"))]\r\n",
        "terminated36"
      ],
      "execution_count": null,
      "outputs": []
    },
    {
      "cell_type": "code",
      "metadata": {
        "id": "1_AKjS8VXuJt"
      },
      "source": [
        "terminated36[\"profit\"] = 1 + ((terminated36.total_pymnt - terminated36.loan_amnt) / terminated36.loan_amnt)\r\n",
        "terminated36[\"profit\"]"
      ],
      "execution_count": null,
      "outputs": []
    },
    {
      "cell_type": "code",
      "metadata": {
        "id": "8vEOolDbY3yG"
      },
      "source": [
        "plt.figure(figsize = (30,10))\r\n",
        "\r\n",
        "sns.violinplot(x = terminated36.grade,\r\n",
        "              y = terminated36.profit,\r\n",
        "              order = sorted(terminated36.grade.unique()),\r\n",
        "              palette = \"Reds\")\r\n",
        "\r\n",
        "plt.title(\"Profit Percentage of \\n Terminated \\n 36-Month Loans\", fontsize = 30)\r\n",
        "plt.xticks(fontsize = 15)\r\n",
        "plt.yticks(fontsize = 15)\r\n",
        "plt.xlabel(\"Grade\", fontsize = 20)\r\n",
        "plt.ylabel(\"Profit Percentage\", fontsize = 20)\r\n",
        "\r\n",
        "plt.show()"
      ],
      "execution_count": null,
      "outputs": []
    },
    {
      "cell_type": "code",
      "metadata": {
        "id": "uYrY3eIdZi0L"
      },
      "source": [
        "terminated60 = accepted.loc[(accepted.term == 60) & ((accepted.loan_status == \"Default\") | (accepted.loan_status == \"Charged Off\") | (accepted.loan_status == \"Fully Paid\"))]\r\n",
        "terminated60"
      ],
      "execution_count": null,
      "outputs": []
    },
    {
      "cell_type": "code",
      "metadata": {
        "id": "IpvAfqD_Z9jq"
      },
      "source": [
        "terminated60[\"profit\"] = 1 + ((terminated60.total_pymnt - terminated60.loan_amnt) / terminated60.loan_amnt)\r\n",
        "terminated60[\"profit\"]"
      ],
      "execution_count": null,
      "outputs": []
    },
    {
      "cell_type": "code",
      "metadata": {
        "id": "UkNJhluyaMLp"
      },
      "source": [
        "plt.figure(figsize = (30,10))\r\n",
        "\r\n",
        "sns.violinplot(x = terminated60.grade,\r\n",
        "              y = terminated60.profit,\r\n",
        "              order = sorted(terminated60.grade.unique()),\r\n",
        "              palette = \"Purples\")\r\n",
        "\r\n",
        "plt.title(\"Profit Percentage of \\n Terminated \\n 60-Month Loans\", fontsize = 30)\r\n",
        "plt.xticks(fontsize = 15)\r\n",
        "plt.yticks(fontsize = 15)\r\n",
        "plt.xlabel(\"Grade\", fontsize = 20)\r\n",
        "plt.ylabel(\"Profit Percentage\", fontsize = 20)\r\n",
        "\r\n",
        "plt.show()"
      ],
      "execution_count": null,
      "outputs": []
    },
    {
      "cell_type": "code",
      "metadata": {
        "id": "xPuPexUeaau4"
      },
      "source": [
        "plt.figure(figsize = (30,10))\r\n",
        "\r\n",
        "sns.scatterplot(term36_fullypaid.loan_duration,\r\n",
        "                term36_fullypaid.loan_amnt)\r\n",
        "\r\n",
        "plt.show()"
      ],
      "execution_count": null,
      "outputs": []
    },
    {
      "cell_type": "code",
      "metadata": {
        "id": "dsB1Yidj1rqa"
      },
      "source": [
        "plt.figure(figsize = (30,10))\r\n",
        "\r\n",
        "sns.scatterplot(term60_fullypaid.loan_duration,\r\n",
        "                term60_fullypaid.loan_amnt)\r\n",
        "\r\n",
        "plt.show()"
      ],
      "execution_count": null,
      "outputs": []
    },
    {
      "cell_type": "code",
      "metadata": {
        "id": "JP8eTM8M3M26"
      },
      "source": [
        "accepted.settlement_status.unique()"
      ],
      "execution_count": null,
      "outputs": []
    },
    {
      "cell_type": "code",
      "metadata": {
        "id": "-WX9lCIeeSJd"
      },
      "source": [
        "term36_complete = accepted.loc[(accepted.term == 36) & (accepted.settlement_status == \"COMPLETE\")]\r\n",
        "term36_complete"
      ],
      "execution_count": null,
      "outputs": []
    },
    {
      "cell_type": "code",
      "metadata": {
        "id": "3H02GEYRft6v"
      },
      "source": [
        "term36_complete[\"profit\"] = 1 + ((term36_complete.total_pymnt - term36_complete.loan_amnt) / term36_complete.loan_amnt)\r\n",
        "term36_complete[\"profit\"]"
      ],
      "execution_count": null,
      "outputs": []
    },
    {
      "cell_type": "code",
      "metadata": {
        "id": "Ob1fHC_ffYhQ"
      },
      "source": [
        "plt.figure(figsize = (30,10))\r\n",
        "\r\n",
        "sns.boxenplot(term36_complete.grade,\r\n",
        "              term36_complete.profit,\r\n",
        "              order = sorted(term36_complete.grade.unique()))\r\n",
        "\r\n",
        "plt.title(\"Profit Percentage of \\n Completed Settlements for \\n 36-Month Loans\", fontsize = 30)\r\n",
        "plt.xticks(fontsize = 15)\r\n",
        "plt.yticks(fontsize = 15)\r\n",
        "plt.xlabel(\"Grade\", fontsize = 20)\r\n",
        "plt.ylabel(\"Profit Percentage\", fontsize = 20)\r\n",
        "\r\n",
        "plt.show()"
      ],
      "execution_count": null,
      "outputs": []
    },
    {
      "cell_type": "code",
      "metadata": {
        "id": "dwDgrFiViJ7-"
      },
      "source": [
        "term36_broken = accepted.loc[(accepted.term == 36) & (accepted.settlement_status == \"BROKEN\")]\r\n",
        "term36_broken"
      ],
      "execution_count": null,
      "outputs": []
    },
    {
      "cell_type": "code",
      "metadata": {
        "id": "2i3a3HzGiPyz"
      },
      "source": [
        "term36_broken[\"profit\"] = 1 + ((term36_broken.total_pymnt - term36_broken.loan_amnt) / term36_broken.loan_amnt)\r\n",
        "term36_broken[\"profit\"]"
      ],
      "execution_count": null,
      "outputs": []
    },
    {
      "cell_type": "code",
      "metadata": {
        "id": "Y5VSEMtMigcF"
      },
      "source": [
        "plt.figure(figsize = (30,10))\r\n",
        "\r\n",
        "sns.boxenplot(term36_broken.grade,\r\n",
        "              term36_broken.profit,\r\n",
        "              order = sorted(term36_broken.grade.unique()))\r\n",
        "\r\n",
        "plt.title(\"Profit Percentage of \\n Broken Settlements for \\n 36-Month Loans\", fontsize = 30)\r\n",
        "plt.xticks(fontsize = 15)\r\n",
        "plt.yticks(fontsize = 15)\r\n",
        "plt.xlabel(\"Grade\", fontsize = 20)\r\n",
        "plt.ylabel(\"Profit Percentage\", fontsize = 20)\r\n",
        "\r\n",
        "plt.show()"
      ],
      "execution_count": null,
      "outputs": []
    },
    {
      "cell_type": "code",
      "metadata": {
        "id": "VPQV-P-ni0x9"
      },
      "source": [
        "term60_complete = accepted.loc[(accepted.term == 60) & (accepted.settlement_status == \"COMPLETE\")]\r\n",
        "term60_complete"
      ],
      "execution_count": null,
      "outputs": []
    },
    {
      "cell_type": "code",
      "metadata": {
        "id": "9IuiCjVWi_UZ"
      },
      "source": [
        "term60_complete[\"profit\"] = 1 + ((term60_complete.total_pymnt - term60_complete.loan_amnt) / term60_complete.loan_amnt)\r\n",
        "term60_complete[\"profit\"]"
      ],
      "execution_count": null,
      "outputs": []
    },
    {
      "cell_type": "code",
      "metadata": {
        "id": "0vCKf8EgknC_"
      },
      "source": [
        "plt.figure(figsize = (30,10))\r\n",
        "\r\n",
        "sns.violinplot(term60_complete.grade,\r\n",
        "              term60_complete.profit,\r\n",
        "              order = sorted(term60_complete.grade.unique()))\r\n",
        "\r\n",
        "plt.title(\"Profit Percentage of \\n Complete Settlements for \\n 60-Month Loans\", fontsize = 30)\r\n",
        "plt.xticks(fontsize = 15)\r\n",
        "plt.yticks(fontsize = 15)\r\n",
        "plt.xlabel(\"Grade\", fontsize = 20)\r\n",
        "plt.ylabel(\"Profit Percentage\", fontsize = 20)\r\n",
        "\r\n",
        "plt.show()"
      ],
      "execution_count": null,
      "outputs": []
    },
    {
      "cell_type": "code",
      "metadata": {
        "id": "yRlXY8idlBJx"
      },
      "source": [
        "term60_broken = accepted.loc[(accepted.term == 60) & (accepted.settlement_status == \"BROKEN\")]\r\n",
        "term60_broken"
      ],
      "execution_count": null,
      "outputs": []
    },
    {
      "cell_type": "code",
      "metadata": {
        "id": "JwI-IURDlOTe"
      },
      "source": [
        "term60_broken[\"profit\"] = 1 + ((term60_broken.total_pymnt - term60_broken.loan_amnt) / term60_broken.loan_amnt)\r\n",
        "term60_broken[\"profit\"]"
      ],
      "execution_count": null,
      "outputs": []
    },
    {
      "cell_type": "code",
      "metadata": {
        "id": "2chKV-2GlWyn"
      },
      "source": [
        "plt.figure(figsize = (30,10))\r\n",
        "\r\n",
        "sns.violinplot(term60_broken.grade,\r\n",
        "              term60_broken.profit,\r\n",
        "              order = sorted(term60_broken.grade.unique()))\r\n",
        "\r\n",
        "plt.title(\"Profit Percentage of \\n Broken Settlements for \\n 60-Month Loans\", fontsize = 30)\r\n",
        "plt.xticks(fontsize = 15)\r\n",
        "plt.yticks(fontsize = 15)\r\n",
        "plt.xlabel(\"Grade\", fontsize = 20)\r\n",
        "plt.ylabel(\"Profit Percentage\", fontsize = 20)\r\n",
        "\r\n",
        "plt.show()"
      ],
      "execution_count": null,
      "outputs": []
    },
    {
      "cell_type": "code",
      "metadata": {
        "id": "gYh2onRUmd5C"
      },
      "source": [
        "# Why did people break their settlement plans?\r\n",
        "\r\n",
        "settlement36 = pd.DataFrame(term36.groupby([\"settlement_status\", \"hardship_reason\"])[\"id\"].count())#.sort_values(by = \"id\", ascending = False).reset_index()\r\n",
        "settlement36 = settlement36.rename(columns = {\"id\":\"count\"})\r\n",
        "settlement36[\"count\"] = settlement36[\"count\"] / sum(settlement36[\"count\"])\r\n",
        "settlement36"
      ],
      "execution_count": null,
      "outputs": []
    },
    {
      "cell_type": "code",
      "metadata": {
        "id": "S4Hs4-tYmltZ"
      },
      "source": [
        "term60 = accepted[accepted.term == 60.0]\r\n",
        "term60"
      ],
      "execution_count": null,
      "outputs": []
    },
    {
      "cell_type": "code",
      "metadata": {
        "id": "4lBw-g6Un8mS"
      },
      "source": [
        "settlement60 = pd.DataFrame(term60.groupby([\"settlement_status\", \"hardship_reason\"])[\"id\"].count()).sort_values(by = \"id\", ascending = False)\r\n",
        "settlement60"
      ],
      "execution_count": null,
      "outputs": []
    },
    {
      "cell_type": "code",
      "metadata": {
        "id": "uufC4T0jpMjk"
      },
      "source": [
        "term36_broken[\"hardship_reason\"].count()"
      ],
      "execution_count": null,
      "outputs": []
    },
    {
      "cell_type": "markdown",
      "metadata": {
        "id": "euLp9UoSp8OM"
      },
      "source": [
        "We need to focus on attributes of applicants that we can know before they are accepted/rejected."
      ]
    },
    {
      "cell_type": "code",
      "metadata": {
        "id": "_YvhEkjsqKfs"
      },
      "source": [
        "plt.figure(figsize = (30,10))\r\n",
        "\r\n",
        "sns.boxplot(term36_broken.purpose,\r\n",
        "            term36_broken.profit,\r\n",
        "            order = term36_broken.groupby([\"purpose\"])[\"profit\"].median().sort_values(ascending = False).index)\r\n",
        "\r\n",
        "plt.title(\"Profit Percentage of \\n Broken Settlements for \\n 36-Month Loans\", fontsize = 30)\r\n",
        "plt.xticks(fontsize = 15, rotation = 30)\r\n",
        "plt.yticks(fontsize = 15)\r\n",
        "plt.xlabel(\"Purpose\", fontsize = 20)\r\n",
        "plt.ylabel(\"Profit Percentage\", fontsize = 20)\r\n",
        "\r\n",
        "plt.show()"
      ],
      "execution_count": null,
      "outputs": []
    },
    {
      "cell_type": "code",
      "metadata": {
        "id": "9dLh5GGhresr"
      },
      "source": [
        "term36_broken.groupby([\"purpose\"])[\"profit\"].median().sort_values(ascending = False).index"
      ],
      "execution_count": null,
      "outputs": []
    },
    {
      "cell_type": "code",
      "metadata": {
        "id": "6TjZ_NC5sNDO"
      },
      "source": [
        "term60_broken.groupby([\"purpose\"])[\"profit\"].median().sort_values(ascending = False).index"
      ],
      "execution_count": null,
      "outputs": []
    },
    {
      "cell_type": "code",
      "metadata": {
        "id": "wcF1PKIUsLUr"
      },
      "source": [
        "plt.figure(figsize = (30,10))\r\n",
        "\r\n",
        "sns.boxplot(term60_broken.purpose,\r\n",
        "            term60_broken.profit,\r\n",
        "            order = term60_broken.groupby([\"purpose\"])[\"profit\"].median().sort_values(ascending = False).index)\r\n",
        "\r\n",
        "plt.title(\"Profit Percentage of \\n Broken Settlements for \\n 60-Month Loans\", fontsize = 30)\r\n",
        "plt.xticks(fontsize = 15, rotation = 30)\r\n",
        "plt.yticks(fontsize = 15)\r\n",
        "plt.xlabel(\"Purpose\", fontsize = 20)\r\n",
        "plt.ylabel(\"Profit Percentage\", fontsize = 20)\r\n",
        "\r\n",
        "plt.show()"
      ],
      "execution_count": null,
      "outputs": []
    },
    {
      "cell_type": "code",
      "metadata": {
        "id": "jy6vM2u3sq0s"
      },
      "source": [
        "term36_complete.groupby([\"purpose\"])[\"profit\"].median().sort_values(ascending = False).index"
      ],
      "execution_count": null,
      "outputs": []
    },
    {
      "cell_type": "code",
      "metadata": {
        "id": "RzYMcSrus37r"
      },
      "source": [
        "plt.figure(figsize = (30,10))\r\n",
        "\r\n",
        "sns.boxplot(term36_complete.purpose,\r\n",
        "            term36_complete.profit,\r\n",
        "            order = term36_complete.groupby([\"purpose\"])[\"profit\"].median().sort_values(ascending = False).index)\r\n",
        "\r\n",
        "plt.title(\"Profit Percentage of \\n Complete Settlements for \\n 36-Month Loans\", fontsize = 30)\r\n",
        "plt.xticks(fontsize = 15, rotation = 30)\r\n",
        "plt.yticks(fontsize = 15)\r\n",
        "plt.xlabel(\"Purpose\", fontsize = 20)\r\n",
        "plt.ylabel(\"Profit Percentage\", fontsize = 20)\r\n",
        "\r\n",
        "plt.show()"
      ],
      "execution_count": null,
      "outputs": []
    },
    {
      "cell_type": "code",
      "metadata": {
        "id": "H525KzssuqPJ"
      },
      "source": [
        "term60_complete.groupby([\"purpose\"])[\"profit\"].median().sort_values(ascending = False).index"
      ],
      "execution_count": null,
      "outputs": []
    },
    {
      "cell_type": "code",
      "metadata": {
        "id": "pvl3mNO4u1Wb"
      },
      "source": [
        "plt.figure(figsize = (30,10))\r\n",
        "\r\n",
        "sns.boxplot(term60_complete.purpose,\r\n",
        "            term60_complete.profit,\r\n",
        "            order = term60_complete.groupby([\"purpose\"])[\"profit\"].median().sort_values(ascending = False).index)\r\n",
        "\r\n",
        "plt.title(\"Profit Percentage of \\n Complete Settlements for \\n 60-Month Loans\", fontsize = 30)\r\n",
        "plt.xticks(fontsize = 15, rotation = 30)\r\n",
        "plt.yticks(fontsize = 15)\r\n",
        "plt.xlabel(\"Purpose\", fontsize = 20)\r\n",
        "plt.ylabel(\"Profit Percentage\", fontsize = 20)\r\n",
        "\r\n",
        "plt.show()"
      ],
      "execution_count": null,
      "outputs": []
    },
    {
      "cell_type": "code",
      "metadata": {
        "id": "8dVKuMs-vR1-"
      },
      "source": [
        "# Explore debt consolidation\r\n",
        "\r\n",
        "term36broken_debt = term36_broken.loc[term36_broken.purpose == \"debt_consolidation\"]\r\n",
        "term36broken_debt"
      ],
      "execution_count": null,
      "outputs": []
    },
    {
      "cell_type": "code",
      "metadata": {
        "id": "6NMmFRCAxCsh"
      },
      "source": [
        "plt.figure(figsize = (30,10))\r\n",
        "\r\n",
        "sns.boxplot(term36broken_debt.grade,\r\n",
        "            term36broken_debt.profit,\r\n",
        "            order = sorted(term36broken_debt.grade.unique()))\r\n",
        "\r\n",
        "plt.title(\"Profit Percentage of \\n Broken Settlements for \\n 36-Month Loans \\n (Debt Consolidation)\", fontsize = 30)\r\n",
        "plt.xticks(fontsize = 15)\r\n",
        "plt.yticks(fontsize = 15)\r\n",
        "plt.xlabel(\"Grade\", fontsize = 20)\r\n",
        "plt.ylabel(\"Profit Percentage\", fontsize = 20)\r\n",
        "\r\n",
        "plt.show()"
      ],
      "execution_count": null,
      "outputs": []
    },
    {
      "cell_type": "code",
      "metadata": {
        "id": "lx2pzBKxylfO"
      },
      "source": [
        "# What are the chances that someone with a grade G loan will go into settlement?\r\n",
        "\r\n",
        "gradeG = accepted.loc[accepted.grade == \"G\"]\r\n",
        "gradeG"
      ],
      "execution_count": null,
      "outputs": []
    },
    {
      "cell_type": "code",
      "metadata": {
        "id": "NqPHG0Bq0W-v"
      },
      "source": [
        "len(gradeG.loc[(gradeG.settlement_status == \"BROKEN\") | (gradeG.settlement_status == \"COMPLETE\")]) / len(gradeG)\r\n",
        "#Only 2% of Grade G go into settlement"
      ],
      "execution_count": null,
      "outputs": []
    },
    {
      "cell_type": "code",
      "metadata": {
        "id": "v59PwnNt1Xbk"
      },
      "source": [
        "len(gradeG.loc[(gradeG.loan_status == \"Default\") | (gradeG.loan_status == \"Charged Off\")]) / len(gradeG)\r\n",
        "#38% of Grade G go into default or worse"
      ],
      "execution_count": null,
      "outputs": []
    },
    {
      "cell_type": "code",
      "metadata": {
        "id": "jLC1royM28sp"
      },
      "source": [
        "len(gradeG.loc[((gradeG.loan_status == \"Default\") | (gradeG.loan_status == \"Charged Off\")) & (gradeG.purpose == \"debt_consolidation\")]) / len(gradeG)\r\n",
        "#24% of Grade G go into default or worse"
      ],
      "execution_count": null,
      "outputs": []
    },
    {
      "cell_type": "code",
      "metadata": {
        "id": "Bd9hrM-u2ktL"
      },
      "source": [
        "# Profit margins for greade G\r\n",
        "\r\n",
        "gradeG[\"profit\"] = 1 + ((gradeG.total_pymnt - gradeG.loan_amnt) / gradeG.loan_amnt)\r\n",
        "gradeG[\"profit\"]"
      ],
      "execution_count": null,
      "outputs": []
    },
    {
      "cell_type": "code",
      "metadata": {
        "id": "1WBnxrbI3wqf"
      },
      "source": [
        "(gradeG.groupby([\"purpose\"])[\"profit\"].median()).sort_values().index"
      ],
      "execution_count": null,
      "outputs": []
    },
    {
      "cell_type": "code",
      "metadata": {
        "id": "tOZfWtKi4KHL"
      },
      "source": [
        "plt.figure(figsize = (30,10))\r\n",
        "\r\n",
        "sns.boxplot(gradeG.loc[(gradeG.loan_status == \"Default\") | (gradeG.loan_status == \"Charged Off\")].purpose,\r\n",
        "            gradeG.loc[(gradeG.loan_status == \"Default\") | (gradeG.loan_status == \"Charged Off\")].profit,\r\n",
        "            order = (gradeG.loc[(gradeG.loan_status == \"Default\") | (gradeG.loan_status == \"Charged Off\")].groupby([\"purpose\"])[\"profit\"].median()).sort_values().index)\r\n",
        "\r\n",
        "plt.title(\"Profit Percentage of \\n Grade G Loans \\n By Purpose \\n (Default or Charged Off)\", fontsize = 30)\r\n",
        "plt.xticks(fontsize = 15, rotation = 15)\r\n",
        "plt.yticks(fontsize = 15)\r\n",
        "plt.xlabel(\"Purpose\", fontsize = 20)\r\n",
        "plt.ylabel(\"Profit Percentage\", fontsize = 20)\r\n",
        "\r\n",
        "plt.show()"
      ],
      "execution_count": null,
      "outputs": []
    },
    {
      "cell_type": "code",
      "metadata": {
        "id": "HNiSuMd-yJQt"
      },
      "source": [
        "term60broken_debt = term60_broken.loc[term60_broken.purpose == \"debt_consolidation\"]\r\n",
        "term60broken_debt"
      ],
      "execution_count": null,
      "outputs": []
    },
    {
      "cell_type": "code",
      "metadata": {
        "id": "dmtcFVg_yOKi"
      },
      "source": [
        "plt.figure(figsize = (30,10))\r\n",
        "\r\n",
        "sns.boxplot(term36broken_debt.grade,\r\n",
        "            term36broken_debt.profit,\r\n",
        "            order = sorted(term36broken_debt.grade.unique()))\r\n",
        "\r\n",
        "plt.title(\"Profit Percentage of \\n Broken Settlements for \\n 36-Month Loans \\n (Debt Consolidation)\", fontsize = 30)\r\n",
        "plt.xticks(fontsize = 15)\r\n",
        "plt.yticks(fontsize = 15)\r\n",
        "plt.xlabel(\"Grade\", fontsize = 20)\r\n",
        "plt.ylabel(\"Profit Percentage\", fontsize = 20)\r\n",
        "\r\n",
        "plt.show()"
      ],
      "execution_count": null,
      "outputs": []
    },
    {
      "cell_type": "code",
      "metadata": {
        "id": "odeg8LOsAFPs"
      },
      "source": [
        "# Look at profit over the years\r\n",
        "\r\n",
        "accepted[\"profit\"] = 1 + ((accepted.total_pymnt - accepted.loan_amnt) / accepted.loan_amnt)"
      ],
      "execution_count": null,
      "outputs": []
    },
    {
      "cell_type": "code",
      "metadata": {
        "id": "kJhfBvqGzn5n"
      },
      "source": [
        "# %%time\r\n",
        "# accepted.to_csv(\"/content/gdrive/MyDrive/NYC DSA Capstone Project/Data/accepted_2007_to_2018q4.csv/accepted.csv\")"
      ],
      "execution_count": null,
      "outputs": []
    },
    {
      "cell_type": "code",
      "metadata": {
        "id": "JtnYPgScykSm"
      },
      "source": [
        "plt.figure(figsize = (30,10))\r\n",
        "\r\n",
        "sns.boxplot(accepted.issue_year,\r\n",
        "             accepted.profit)\r\n",
        "\r\n",
        "plt.title(\"Profit Ratio Over the Years\", fontsize = 30)\r\n",
        "plt.xticks(fontsize = 15)\r\n",
        "plt.yticks(fontsize = 15)\r\n",
        "plt.xlabel(\"Year\", fontsize = 20)\r\n",
        "plt.ylabel(\"Profit\", fontsize = 20)\r\n",
        "\r\n",
        "plt.show()"
      ],
      "execution_count": null,
      "outputs": []
    },
    {
      "cell_type": "code",
      "metadata": {
        "id": "hJI9kz29_ckG"
      },
      "source": [
        "plt.figure(figsize = (30,10))\r\n",
        "\r\n",
        "sns.lineplot(accepted.loan_duration/30,\r\n",
        "                accepted.profit)\r\n",
        "\r\n",
        "plt.title(\"Profit Ratio by Loan Duration\", fontsize = 30)\r\n",
        "plt.xticks(fontsize = 15)\r\n",
        "plt.yticks(fontsize = 15)\r\n",
        "plt.xlabel(\"Duration\", fontsize = 20)\r\n",
        "plt.ylabel(\"Profit\", fontsize = 20)\r\n",
        "\r\n",
        "plt.show()"
      ],
      "execution_count": null,
      "outputs": []
    },
    {
      "cell_type": "code",
      "metadata": {
        "id": "UEwiLjFPRXhW"
      },
      "source": [
        "plt.figure(figsize = (30,10))\r\n",
        "\r\n",
        "sns.boxenplot(accepted.grade,\r\n",
        "             accepted.profit,\r\n",
        "             order = sorted(accepted.grade.unique()))\r\n",
        "\r\n",
        "plt.title(\"Profit Ratio by Grade\", fontsize = 30)\r\n",
        "plt.xticks(fontsize = 15)\r\n",
        "plt.yticks(fontsize = 15)\r\n",
        "plt.xlabel(\"Grade\", fontsize = 20)\r\n",
        "plt.ylabel(\"Profit\", fontsize = 20)\r\n",
        "\r\n",
        "plt.show()"
      ],
      "execution_count": null,
      "outputs": []
    },
    {
      "cell_type": "markdown",
      "metadata": {
        "id": "1WgBcU9_3SQB"
      },
      "source": [
        "Imputation for model"
      ]
    },
    {
      "cell_type": "code",
      "metadata": {
        "id": "BrG9MgeM3YfO"
      },
      "source": [
        "potential_features = accepted[[\"addr_state\", \"annual_inc_joint\", \"application_type\", \"dti\", \"earliest_cr_line\", \"emp_length\", \"fico_range_high\", \"fico_range_low\", \"funded_amnt\", \r\n",
        "                               \"home_ownership\", \"inq_fi\", \"inq_last_12m\", \"installment\", \"int_rate\", \"loan_amnt\", \"open_acc\", \"pub_rec\", \"pub_rec_bankruptcies\", \"title\", \"zip_code\", \r\n",
        "                               \"total_acc\", \"revol_bal\", \"revol_util\", \"delinq_amnt\", \"delinq_2yrs\", \"mths_since_last_delinq\", \"mths_since_last_major_derog\"]]"
      ],
      "execution_count": null,
      "outputs": []
    },
    {
      "cell_type": "code",
      "metadata": {
        "id": "rK9sNtdj8KTw"
      },
      "source": [
        "potential_features"
      ],
      "execution_count": null,
      "outputs": []
    },
    {
      "cell_type": "code",
      "metadata": {
        "id": "9Mu5v7oS8SX_"
      },
      "source": [
        "potential_features.isnull().sum(axis = 0)"
      ],
      "execution_count": null,
      "outputs": []
    },
    {
      "cell_type": "code",
      "metadata": {
        "id": "Fm8InecuCiF7"
      },
      "source": [
        "accepted[[\"dti\", \"dti_joint\"]]"
      ],
      "execution_count": null,
      "outputs": []
    },
    {
      "cell_type": "code",
      "metadata": {
        "id": "rE7Mbv50Dp2o"
      },
      "source": [
        "median_dti_by_subgrade = pd.DataFrame(accepted.groupby(\"sub_grade\")[\"dti\"].median()).reset_index()\r\n",
        "median_dti_by_subgrade = median_dti_by_subgrade.rename(columns = {\"dti\":\"median_dti\"})\r\n",
        "median_dti_by_subgrade"
      ],
      "execution_count": null,
      "outputs": []
    },
    {
      "cell_type": "code",
      "metadata": {
        "id": "SbkIvG7nE_in"
      },
      "source": [
        "lst = [1, 2, math.nan, 3]\r\n",
        "lst"
      ],
      "execution_count": null,
      "outputs": []
    },
    {
      "cell_type": "code",
      "metadata": {
        "id": "Z7250_9ZFPj9"
      },
      "source": [
        "for i in range(len(lst)):\r\n",
        "    if math.isnan(lst[i]):\r\n",
        "        lst[i] = \"missing\""
      ],
      "execution_count": null,
      "outputs": []
    },
    {
      "cell_type": "code",
      "metadata": {
        "id": "WofiW86TFxVG"
      },
      "source": [
        "lst"
      ],
      "execution_count": null,
      "outputs": []
    },
    {
      "cell_type": "code",
      "metadata": {
        "id": "GQ2T5BsrHTT2"
      },
      "source": [
        "%%time\r\n",
        "accepted = pd.merge(accepted, median_dti_by_subgrade, how = \"left\", on = \"sub_grade\", suffixes = (\"\", \"Delete\"))"
      ],
      "execution_count": null,
      "outputs": []
    },
    {
      "cell_type": "code",
      "metadata": {
        "id": "cG1VVrZ-KqSK"
      },
      "source": [
        "accepted.columns.to_list()"
      ],
      "execution_count": null,
      "outputs": []
    },
    {
      "cell_type": "code",
      "metadata": {
        "id": "R6QUW2GCpcsY"
      },
      "source": [
        "accepted"
      ],
      "execution_count": null,
      "outputs": []
    },
    {
      "cell_type": "code",
      "metadata": {
        "id": "YqCX0aotF9a1"
      },
      "source": [
        "def impute_dti(x):\r\n",
        "    try:\r\n",
        "        if math.isnan(x.dti):\r\n",
        "            return median_dti_by_subgrade.loc[median_dti_by_subgrade.sub_grade == x.sub_grade, \"median_dti\"].values[0]\r\n",
        "        else:\r\n",
        "            return x.dti\r\n",
        "    except:\r\n",
        "        print(x.loc[\"index\"])"
      ],
      "execution_count": null,
      "outputs": []
    },
    {
      "cell_type": "code",
      "metadata": {
        "id": "Lhj-8YKX1U9l"
      },
      "source": [
        "accepted.reset_index().iloc[1,:].loc[\"index\"]"
      ],
      "execution_count": null,
      "outputs": []
    },
    {
      "cell_type": "code",
      "metadata": {
        "id": "x9oADAZurXgR"
      },
      "source": [
        "median_dti_by_subgrade.loc[median_dti_by_subgrade.sub_grade == \"A5\", \"median_dti\"].values"
      ],
      "execution_count": null,
      "outputs": []
    },
    {
      "cell_type": "code",
      "metadata": {
        "id": "-GXGzUTtJ_wA"
      },
      "source": [
        "%%time\r\n",
        "accepted[\"dti\"] = accepted.reset_index().apply(impute_dti, axis = 1)\r\n",
        "accepted[\"dti\"]"
      ],
      "execution_count": null,
      "outputs": []
    },
    {
      "cell_type": "code",
      "metadata": {
        "id": "zLw9B_pyLcMm"
      },
      "source": [
        "accepted.dti.isnull().sum()"
      ],
      "execution_count": null,
      "outputs": []
    },
    {
      "cell_type": "code",
      "metadata": {
        "id": "Q9xXD1NpLfkH"
      },
      "source": [
        "pd.options.display.max_rows = 27\r\n",
        "potential_features = accepted[[\"addr_state\", \"annual_inc_joint\", \"application_type\", \"dti\", \"earliest_cr_line\", \"emp_length\", \"fico_range_high\", \"fico_range_low\", \"funded_amnt\", \r\n",
        "                               \"home_ownership\", \"inq_fi\", \"inq_last_12m\", \"installment\", \"int_rate\", \"loan_amnt\", \"open_acc\", \"pub_rec\", \"pub_rec_bankruptcies\", \"title\", \"zip_code\", \r\n",
        "                               \"total_acc\", \"revol_bal\", \"revol_util\", \"delinq_amnt\", \"delinq_2yrs\", \"mths_since_last_delinq\", \"mths_since_last_major_derog\"]]\r\n",
        "\r\n",
        "potential_features.isnull().sum()"
      ],
      "execution_count": null,
      "outputs": []
    },
    {
      "cell_type": "code",
      "metadata": {
        "id": "GIRWcGGEPPj7"
      },
      "source": [
        "accepted[[\"dti\", \"dti_joint\"]]"
      ],
      "execution_count": null,
      "outputs": []
    },
    {
      "cell_type": "code",
      "metadata": {
        "id": "JQY_4kFJyFer"
      },
      "source": [
        "np.mean(accepted[\"dti_joint\"] == accepted[[\"dti\", \"dti_joint\"]].apply(max, axis = 1))"
      ],
      "execution_count": null,
      "outputs": []
    },
    {
      "cell_type": "code",
      "metadata": {
        "id": "7JFg56nrWRv1"
      },
      "source": [
        "# def impute_missing_dti_joint(x):\r\n",
        "#     if math.isnan(x):\r\n",
        "#         return 0\r\n",
        "#     else:\r\n",
        "#         return x"
      ],
      "execution_count": null,
      "outputs": []
    },
    {
      "cell_type": "code",
      "metadata": {
        "id": "UAMkolp1Wb-B"
      },
      "source": [
        "# accepted[\"dti_joint\"] = accepted.dti_joint.apply(impute_missing_dti_joint)\r\n",
        "# accepted[\"dti_joint\"]"
      ],
      "execution_count": null,
      "outputs": []
    },
    {
      "cell_type": "code",
      "metadata": {
        "id": "foFp6iilOa7c"
      },
      "source": [
        "# accepted[[\"dti\", \"dti_joint\"]].head(18202).max(axis = 1)"
      ],
      "execution_count": null,
      "outputs": []
    },
    {
      "cell_type": "code",
      "metadata": {
        "id": "VNeAOeMlecUo"
      },
      "source": [
        "pd.options.display.max_rows = 10\r\n",
        "accepted.iloc[18202]"
      ],
      "execution_count": null,
      "outputs": []
    },
    {
      "cell_type": "code",
      "metadata": {
        "id": "x-PPNDhx8VCw"
      },
      "source": [
        "accepted.dti[2121176]"
      ],
      "execution_count": null,
      "outputs": []
    },
    {
      "cell_type": "code",
      "metadata": {
        "id": "Qq86c7gbzgfP"
      },
      "source": [
        "# accepted[\"dti\"][18202] = 20.23"
      ],
      "execution_count": null,
      "outputs": []
    },
    {
      "cell_type": "code",
      "metadata": {
        "id": "WrBLYjD4L-dY"
      },
      "source": [
        "accepted.earliest_cr_line"
      ],
      "execution_count": null,
      "outputs": []
    },
    {
      "cell_type": "code",
      "metadata": {
        "id": "eg_u0RudOLQL"
      },
      "source": [
        "potential_features = accepted[[\"addr_state\", \"annual_inc_joint\", \"application_type\", \"dti\", \"earliest_cr_line\", \"emp_length\", \"fico_range_high\", \"fico_range_low\", \"funded_amnt\", \r\n",
        "                               \"home_ownership\", \"inq_fi\", \"inq_last_12m\", \"installment\", \"int_rate\", \"loan_amnt\", \"open_acc\", \"pub_rec\", \"pub_rec_bankruptcies\", \"title\", \"zip_code\", \r\n",
        "                               \"total_acc\", \"revol_bal\", \"revol_util\", \"delinq_amnt\", \"delinq_2yrs\", \"mths_since_last_delinq\", \"mths_since_last_major_derog\"]]\r\n",
        "\r\n",
        "potential_features.isnull().sum()"
      ],
      "execution_count": null,
      "outputs": []
    },
    {
      "cell_type": "code",
      "metadata": {
        "id": "XhbSyuFNE1ZM"
      },
      "source": [
        "def impute_inq(x):\r\n",
        "    if math.isnan(x):\r\n",
        "        return 0\r\n",
        "    else:\r\n",
        "        return x"
      ],
      "execution_count": null,
      "outputs": []
    },
    {
      "cell_type": "code",
      "metadata": {
        "id": "MUUyIOVTF7MT"
      },
      "source": [
        "accepted[\"inq_fi\"] = accepted[\"inq_fi\"].apply(impute_inq)\r\n",
        "accepted[\"inq_fi\"]"
      ],
      "execution_count": null,
      "outputs": []
    },
    {
      "cell_type": "code",
      "metadata": {
        "id": "GxOVZMJ9GUUn"
      },
      "source": [
        "accepted[\"inq_last_12m\"] = accepted[\"inq_last_12m\"].apply(impute_inq)\r\n",
        "accepted[\"inq_last_12m\"]"
      ],
      "execution_count": null,
      "outputs": []
    },
    {
      "cell_type": "code",
      "metadata": {
        "id": "sUa58PSKGvV-"
      },
      "source": [
        "accepted[\"mths_since_last_delinq\"] = accepted[\"mths_since_last_delinq\"].apply(impute_inq)\r\n",
        "accepted[\"mths_since_last_delinq\"]"
      ],
      "execution_count": null,
      "outputs": []
    },
    {
      "cell_type": "code",
      "metadata": {
        "id": "vNmfMc7rGvn3"
      },
      "source": [
        "accepted[\"mths_since_last_major_derog\"] = accepted[\"mths_since_last_major_derog\"].apply(impute_inq)\r\n",
        "accepted[\"mths_since_last_major_derog\"]"
      ],
      "execution_count": null,
      "outputs": []
    },
    {
      "cell_type": "code",
      "metadata": {
        "id": "D4JK1T1JHZgL"
      },
      "source": [
        "accepted[\"delinq_amnt\"] = accepted[\"delinq_amnt\"].apply(impute_inq)\r\n",
        "accepted[\"delinq_amnt\"]"
      ],
      "execution_count": null,
      "outputs": []
    },
    {
      "cell_type": "code",
      "metadata": {
        "id": "crh-s7cjHkyX"
      },
      "source": [
        "accepted[\"delinq_2yrs\"] = accepted[\"delinq_2yrs\"].apply(impute_inq)\r\n",
        "accepted[\"delinq_2yrs\"]"
      ],
      "execution_count": null,
      "outputs": []
    },
    {
      "cell_type": "code",
      "metadata": {
        "id": "KtCzqzhHIECH"
      },
      "source": [
        "accepted[\"emp_length\"]"
      ],
      "execution_count": null,
      "outputs": []
    },
    {
      "cell_type": "code",
      "metadata": {
        "id": "SG1A0MaeIzOf"
      },
      "source": [
        "%%time\r\n",
        "accepted[\"emp_length\"] = accepted[\"emp_length\"].apply(lambda string: re.sub(pattern = \"([\\d]{0,2})([^\\d])\", repl = r\"\\1\", string = string) if isinstance(string, str) else 0)\r\n",
        "accepted[\"emp_length\"]"
      ],
      "execution_count": null,
      "outputs": []
    },
    {
      "cell_type": "code",
      "metadata": {
        "id": "SIl7S9PFKO3V"
      },
      "source": [
        "accepted[\"revol_util\"] = accepted[\"revol_util\"].apply(impute_inq)\r\n",
        "accepted[\"revol_util\"]"
      ],
      "execution_count": null,
      "outputs": []
    },
    {
      "cell_type": "code",
      "metadata": {
        "id": "_6oJ2WcZLR4D"
      },
      "source": [
        "accepted[\"pub_rec_bankruptcies\"] = accepted[\"pub_rec_bankruptcies\"].apply(impute_inq)\r\n",
        "accepted[\"pub_rec_bankruptcies\"]"
      ],
      "execution_count": null,
      "outputs": []
    },
    {
      "cell_type": "code",
      "metadata": {
        "id": "8UW3LHg5MA4D"
      },
      "source": [
        "accepted[\"open_acc\"] = accepted[\"open_acc\"].apply(impute_inq)\r\n",
        "accepted[\"open_acc\"]"
      ],
      "execution_count": null,
      "outputs": []
    },
    {
      "cell_type": "code",
      "metadata": {
        "id": "KuWGem8PMHXk"
      },
      "source": [
        "accepted[\"pub_rec\"] = accepted[\"pub_rec\"].apply(impute_inq)\r\n",
        "accepted[\"pub_rec\"]"
      ],
      "execution_count": null,
      "outputs": []
    },
    {
      "cell_type": "code",
      "metadata": {
        "id": "hhTU2w_IMWI4"
      },
      "source": [
        "accepted[\"total_acc\"] = accepted[\"total_acc\"].apply(impute_inq)\r\n",
        "accepted[\"total_acc\"]"
      ],
      "execution_count": null,
      "outputs": []
    },
    {
      "cell_type": "code",
      "metadata": {
        "id": "nCbePKhHMg7N"
      },
      "source": [
        "accepted[\"annual_inc_joint\"] = accepted[\"annual_inc_joint\"].apply(impute_inq)\r\n",
        "accepted[\"annual_inc_joint\"]"
      ],
      "execution_count": null,
      "outputs": []
    },
    {
      "cell_type": "code",
      "metadata": {
        "id": "4WTDVwazMz6Q"
      },
      "source": [
        "accepted[\"earliest_cr_line\"]"
      ],
      "execution_count": null,
      "outputs": []
    },
    {
      "cell_type": "code",
      "metadata": {
        "id": "gvX-KJq1OG46"
      },
      "source": [
        "accepted[\"earliest_cr_line\"] = accepted[\"earliest_cr_line\"].apply(lambda date: re.sub(pattern = \"-\", repl = \"\", string = date) if isinstance(date, str) else date)"
      ],
      "execution_count": null,
      "outputs": []
    },
    {
      "cell_type": "code",
      "metadata": {
        "id": "dPwS4brSOUco"
      },
      "source": [
        "accepted[\"earliest_cr_line\"] = pd.to_datetime(accepted[\"earliest_cr_line\"], format = \"%b%Y\", yearfirst = True)\r\n",
        "accepted[\"earliest_cr_line\"]"
      ],
      "execution_count": null,
      "outputs": []
    },
    {
      "cell_type": "code",
      "metadata": {
        "id": "wEZDhzaJO4oW"
      },
      "source": [
        ""
      ],
      "execution_count": null,
      "outputs": []
    },
    {
      "cell_type": "code",
      "metadata": {
        "id": "1M5WtCD5Opzy"
      },
      "source": [
        "accepted[\"days_from_1st_cr_line\"] = (accepted[\"issue_d\"] - accepted[\"earliest_cr_line\"]).dt.days\r\n",
        "accepted[\"days_from_1st_cr_line\"]"
      ],
      "execution_count": null,
      "outputs": []
    },
    {
      "cell_type": "code",
      "metadata": {
        "id": "wB0SSBhaQEUK"
      },
      "source": [
        "accepted[\"days_from_1st_cr_line\"] = accepted[\"days_from_1st_cr_line\"].apply(impute_inq)\r\n",
        "accepted[\"days_from_1st_cr_line\"]"
      ],
      "execution_count": null,
      "outputs": []
    },
    {
      "cell_type": "code",
      "metadata": {
        "id": "TsNnLWADGiAX"
      },
      "source": [
        "potential_features = accepted[[\"addr_state\", \"annual_inc_joint\", \"application_type\", \"dti\", \"days_from_1st_cr_line\", \"emp_length\", \"fico_range_high\", \"fico_range_low\", \"funded_amnt\", \r\n",
        "                               \"home_ownership\", \"inq_fi\", \"inq_last_12m\", \"installment\", \"int_rate\", \"loan_amnt\", \"open_acc\", \"pub_rec\", \"pub_rec_bankruptcies\", \"purpose\", \r\n",
        "                               \"total_acc\", \"revol_bal\", \"revol_util\", \"delinq_amnt\", \"delinq_2yrs\", \"mths_since_last_delinq\", \"mths_since_last_major_derog\"]]\r\n",
        "\r\n",
        "potential_features.isnull().sum()"
      ],
      "execution_count": null,
      "outputs": []
    },
    {
      "cell_type": "code",
      "metadata": {
        "id": "FMTgR9MfR5dl"
      },
      "source": [
        "potential_features.info()"
      ],
      "execution_count": null,
      "outputs": []
    },
    {
      "cell_type": "markdown",
      "metadata": {
        "id": "b4ilnbUvSgLA"
      },
      "source": [
        "Turn string into numerical or dummify \r\n",
        "\r\n",
        "dummify addr_state, purpose"
      ]
    },
    {
      "cell_type": "code",
      "metadata": {
        "id": "VzOe80nlShlr"
      },
      "source": [
        "accepted.application_type.unique()"
      ],
      "execution_count": null,
      "outputs": []
    },
    {
      "cell_type": "code",
      "metadata": {
        "id": "TmY5LeJlS9Tz"
      },
      "source": [
        "accepted[\"indiv_app\"] = (accepted[\"application_type\"] == 'Individual').apply(int)\r\n",
        "accepted[\"indiv_app\"]"
      ],
      "execution_count": null,
      "outputs": []
    },
    {
      "cell_type": "code",
      "metadata": {
        "id": "OqbPiPtUTuiS"
      },
      "source": [
        "potential_features = accepted[[\"addr_state\", \"annual_inc_joint\", \"indiv_app\", \"dti\", \"days_from_1st_cr_line\", \"emp_length\", \"fico_range_high\", \"fico_range_low\", \"funded_amnt\", \r\n",
        "                               \"home_ownership\", \"inq_fi\", \"inq_last_12m\", \"installment\", \"int_rate\", \"loan_amnt\", \"open_acc\", \"pub_rec\", \"pub_rec_bankruptcies\", \"purpose\", \r\n",
        "                               \"total_acc\", \"revol_bal\", \"revol_util\", \"delinq_amnt\", \"delinq_2yrs\", \"mths_since_last_delinq\", \"mths_since_last_major_derog\"]]\r\n",
        "\r\n",
        "potential_features.isnull().sum()"
      ],
      "execution_count": null,
      "outputs": []
    },
    {
      "cell_type": "code",
      "metadata": {
        "id": "M8e9M6LBT_dR"
      },
      "source": [
        "potential_features.info()"
      ],
      "execution_count": null,
      "outputs": []
    },
    {
      "cell_type": "code",
      "metadata": {
        "id": "1N4TChMsUEBa"
      },
      "source": [
        "accepted[\"home_ownership\"].unique()"
      ],
      "execution_count": null,
      "outputs": []
    },
    {
      "cell_type": "code",
      "metadata": {
        "id": "zX97WtGPVpl5"
      },
      "source": [
        "def home(x):\r\n",
        "    if x in ['MORTGAGE', 'OWN']:\r\n",
        "        return 1\r\n",
        "    else:\r\n",
        "        return 0"
      ],
      "execution_count": null,
      "outputs": []
    },
    {
      "cell_type": "code",
      "metadata": {
        "id": "uLMuD2zFVHAm"
      },
      "source": [
        "np.mean(accepted[\"home_ownership\"].apply(home))"
      ],
      "execution_count": null,
      "outputs": []
    },
    {
      "cell_type": "code",
      "metadata": {
        "id": "ms6a7WcKWP47"
      },
      "source": [
        "accepted[\"home_ownership\"] = accepted[\"home_ownership\"].apply(home)\r\n",
        "accepted[\"home_ownership\"]"
      ],
      "execution_count": null,
      "outputs": []
    },
    {
      "cell_type": "code",
      "metadata": {
        "id": "Ymt83zz2WVrL"
      },
      "source": [
        "potential_features = accepted[[\"addr_state\", \"annual_inc_joint\", \"indiv_app\", \"dti\", \"days_from_1st_cr_line\", \"emp_length\", \"fico_range_high\", \"fico_range_low\", \"funded_amnt\", \r\n",
        "                               \"home_ownership\", \"inq_fi\", \"inq_last_12m\", \"installment\", \"int_rate\", \"loan_amnt\", \"open_acc\", \"pub_rec\", \"pub_rec_bankruptcies\", \"purpose\", \r\n",
        "                               \"total_acc\", \"revol_bal\", \"revol_util\", \"delinq_amnt\", \"delinq_2yrs\", \"mths_since_last_delinq\", \"mths_since_last_major_derog\"]]\r\n",
        "\r\n",
        "potential_features.isnull().sum()"
      ],
      "execution_count": null,
      "outputs": []
    },
    {
      "cell_type": "code",
      "metadata": {
        "id": "OGSHaZjHWm2W"
      },
      "source": [
        "potential_features.info()"
      ],
      "execution_count": null,
      "outputs": []
    },
    {
      "cell_type": "code",
      "metadata": {
        "id": "6y4MPKhVWrsF"
      },
      "source": [
        "accepted[\"emp_length\"] = accepted[\"emp_length\"].apply(int)\r\n",
        "accepted[\"emp_length\"]"
      ],
      "execution_count": null,
      "outputs": []
    },
    {
      "cell_type": "code",
      "metadata": {
        "id": "7ZVch3Z1XZhI"
      },
      "source": [
        "potential_features = accepted[[\"addr_state\", \"annual_inc_joint\", \"indiv_app\", \"dti_joint\", \"days_from_1st_cr_line\", \"emp_length\", \"fico_range_high\", \"fico_range_low\", \"funded_amnt\", \r\n",
        "                               \"home_ownership\", \"inq_fi\", \"inq_last_12m\", \"installment\", \"int_rate\", \"loan_amnt\", \"open_acc\", \"pub_rec\", \"pub_rec_bankruptcies\", \"purpose\", \r\n",
        "                               \"total_acc\", \"revol_bal\", \"revol_util\", \"delinq_amnt\", \"delinq_2yrs\", \"mths_since_last_delinq\", \"mths_since_last_major_derog\"]]\r\n",
        "\r\n",
        "potential_features.isnull().sum()"
      ],
      "execution_count": null,
      "outputs": []
    },
    {
      "cell_type": "code",
      "metadata": {
        "id": "71yoP9K-Xenn"
      },
      "source": [
        "potential_features.info()"
      ],
      "execution_count": null,
      "outputs": []
    },
    {
      "cell_type": "code",
      "metadata": {
        "id": "qb03D7CJYw-L"
      },
      "source": [
        "len(accepted[\"addr_state\"].unique())"
      ],
      "execution_count": null,
      "outputs": []
    },
    {
      "cell_type": "code",
      "metadata": {
        "id": "P60Kx76zY6ho"
      },
      "source": [
        "accepted[\"addr_state\"].unique()"
      ],
      "execution_count": null,
      "outputs": []
    },
    {
      "cell_type": "code",
      "metadata": {
        "id": "iYHl1JUsZF_8"
      },
      "source": [
        "pd.options.display.max_rows = 51\r\n",
        "med_inc_by_state = pd.DataFrame(accepted.groupby([\"addr_state\"])[\"annual_inc_joint\"].median()).sort_values(by = \"annual_inc_joint\", ascending = False).reset_index()\r\n",
        "med_inc_by_state = med_inc_by_state.rename(columns = {\"addr_state\":\"state\", \"annual_inc_joint\":\"income\"})\r\n",
        "med_inc_by_state"
      ],
      "execution_count": null,
      "outputs": []
    },
    {
      "cell_type": "code",
      "metadata": {
        "id": "rrhcdwv6btdI"
      },
      "source": [
        "# try:\r\n",
        "#     if math.isnan(x.dti):\r\n",
        "#         return median_dti_by_subgrade.loc[median_dti_by_subgrade.sub_grade == x.sub_grade, \"median_dti\"].values[0]\r\n",
        "#     else:\r\n",
        "#         return x.dti\r\n",
        "# except:\r\n",
        "#     print(x.loc[\"index\"])"
      ],
      "execution_count": null,
      "outputs": []
    },
    {
      "cell_type": "code",
      "metadata": {
        "id": "zifGYh99lo_0"
      },
      "source": [
        "# accepted.reset_index().apply(impute_dti, axis = 1)"
      ],
      "execution_count": null,
      "outputs": []
    },
    {
      "cell_type": "code",
      "metadata": {
        "id": "VF8Wjaj6lnLF"
      },
      "source": [
        "med_inc_by_state.loc[(5e4 < med_inc_by_state[\"income\"]) & (med_inc_by_state[\"income\"] < 6e4)][\"state\"].to_list()"
      ],
      "execution_count": null,
      "outputs": []
    },
    {
      "cell_type": "code",
      "metadata": {
        "id": "BaBxOyj4og5h"
      },
      "source": [
        "group4 = med_inc_by_state.loc[(med_inc_by_state[\"income\"] > 8e4)][\"state\"].to_list()\r\n",
        "print(group4)\r\n",
        "\r\n",
        "group3 = med_inc_by_state.loc[(7e4 < med_inc_by_state[\"income\"]) & (med_inc_by_state[\"income\"] < 8e4)][\"state\"].to_list()\r\n",
        "print(group3)\r\n",
        "\r\n",
        "group2 = med_inc_by_state.loc[(6e4 < med_inc_by_state[\"income\"]) & (med_inc_by_state[\"income\"] < 7e4)][\"state\"].to_list()\r\n",
        "print(group2)\r\n",
        "\r\n",
        "group1 = med_inc_by_state.loc[(5e4 < med_inc_by_state[\"income\"]) & (med_inc_by_state[\"income\"] < 6e4)][\"state\"].to_list()\r\n",
        "print(group1)\r\n",
        "\r\n",
        "group0 = med_inc_by_state.loc[(med_inc_by_state[\"income\"] < 5e4)][\"state\"].to_list()\r\n",
        "print(group0)"
      ],
      "execution_count": null,
      "outputs": []
    },
    {
      "cell_type": "code",
      "metadata": {
        "id": "orvmdz6qnLwm"
      },
      "source": [
        "def state(x):\r\n",
        "    if x in group4:\r\n",
        "        return 4\r\n",
        "    elif x in group3:\r\n",
        "        return 3\r\n",
        "    elif x in group2:\r\n",
        "        return 2\r\n",
        "    elif x in group1:\r\n",
        "        return 1\r\n",
        "    else:\r\n",
        "        return 0"
      ],
      "execution_count": null,
      "outputs": []
    },
    {
      "cell_type": "code",
      "metadata": {
        "id": "-qrxj_9lswlE"
      },
      "source": [
        "# %%time\r\n",
        "# accepted.to_csv(\"/content/gdrive/MyDrive/NYC DSA Capstone Project/Data/accepted_2007_to_2018q4.csv/accepted.csv\")"
      ],
      "execution_count": null,
      "outputs": []
    },
    {
      "cell_type": "code",
      "metadata": {
        "id": "I7cA_6Gspa-6"
      },
      "source": [
        "%%time\r\n",
        "accepted[\"state_income\"] = accepted[\"addr_state\"].apply(state)\r\n",
        "accepted[\"state_income\"]"
      ],
      "execution_count": null,
      "outputs": []
    },
    {
      "cell_type": "code",
      "metadata": {
        "id": "tLzW6jFk9Lyv"
      },
      "source": [
        "potential_features = accepted[[\"state_income\", \"annual_inc_joint\", \"indiv_app\", \"dti_joint\", \"days_from_1st_cr_line\", \"emp_length\", \"fico_range_high\", \"fico_range_low\", \"funded_amnt\", \r\n",
        "                               \"home_ownership\", \"inq_fi\", \"inq_last_12m\", \"installment\", \"int_rate\", \"loan_amnt\", \"open_acc\", \"pub_rec\", \"pub_rec_bankruptcies\", \"purpose\", \r\n",
        "                               \"total_acc\", \"revol_bal\", \"revol_util\", \"delinq_amnt\", \"delinq_2yrs\", \"mths_since_last_delinq\", \"mths_since_last_major_derog\"]]\r\n",
        "\r\n",
        "potential_features.isnull().sum()"
      ],
      "execution_count": null,
      "outputs": []
    },
    {
      "cell_type": "code",
      "metadata": {
        "id": "H31H3MHo9RCp"
      },
      "source": [
        "potential_features.info()"
      ],
      "execution_count": null,
      "outputs": []
    },
    {
      "cell_type": "code",
      "metadata": {
        "id": "RYyJdyrH9n8I"
      },
      "source": [
        "accepted.purpose.unique()"
      ],
      "execution_count": null,
      "outputs": []
    },
    {
      "cell_type": "code",
      "metadata": {
        "id": "IbMNC3i_Dc5K"
      },
      "source": [
        "def purpose(x):\r\n",
        "    if x == 'debt_consolidation':\r\n",
        "        return 1\r\n",
        "    else:\r\n",
        "        return 0"
      ],
      "execution_count": null,
      "outputs": []
    },
    {
      "cell_type": "code",
      "metadata": {
        "id": "gLQUJOa-D8mF"
      },
      "source": [
        "accepted[\"for_debt_consol\"] = accepted.purpose.apply(purpose)\r\n",
        "accepted[\"for_debt_consol\"]"
      ],
      "execution_count": null,
      "outputs": []
    },
    {
      "cell_type": "code",
      "metadata": {
        "id": "5KER1cgrEdsn"
      },
      "source": [
        "potential_features = accepted[[\"loan_status_trim\", \"state_income\", \"annual_inc_joint\", \"indiv_app\", \"dti_joint\", \"days_from_1st_cr_line\", \"emp_length\", \"fico_range_high\", \"fico_range_low\", \"funded_amnt\", \r\n",
        "                               \"home_ownership\", \"inq_fi\", \"inq_last_12m\", \"installment\", \"int_rate\", \"loan_amnt\", \"open_acc\", \"pub_rec\", \"pub_rec_bankruptcies\", \"for_debt_consol\", \r\n",
        "                               \"total_acc\", \"revol_bal\", \"revol_util\", \"delinq_amnt\", \"delinq_2yrs\", \"mths_since_last_delinq\", \"mths_since_last_major_derog\", \"grade\"]]\r\n",
        "\r\n",
        "potential_features.isnull().sum()"
      ],
      "execution_count": null,
      "outputs": []
    },
    {
      "cell_type": "code",
      "metadata": {
        "id": "JaCMjdyTRLL0"
      },
      "source": [
        "%%time\r\n",
        "num_grade = {\"G\":0, \"F\":1, \"E\":2, \"D\":3, \"C\":4, \"B\":5, \"A\":6}\r\n",
        "accepted.replace({\"grade\":num_grade}, inplace = True)"
      ],
      "execution_count": null,
      "outputs": []
    },
    {
      "cell_type": "code",
      "metadata": {
        "id": "E5F0ydD4SpCi"
      },
      "source": [
        "accepted.grade"
      ],
      "execution_count": null,
      "outputs": []
    },
    {
      "cell_type": "code",
      "metadata": {
        "id": "aXE0SS5XS2T8"
      },
      "source": [
        "features = accepted[[\"loan_status_trim\", \"state_income\", \"annual_inc_joint\", \"indiv_app\", \"dti_joint\", \"days_from_1st_cr_line\", \"emp_length\", \"fico_range_high\", \"fico_range_low\", \"funded_amnt\", \r\n",
        "                               \"home_ownership\", \"inq_fi\", \"inq_last_12m\", \"installment\", \"int_rate\", \"loan_amnt\", \"open_acc\", \"pub_rec\", \"pub_rec_bankruptcies\", \"for_debt_consol\", \r\n",
        "                               \"total_acc\", \"revol_bal\", \"revol_util\", \"delinq_amnt\", \"delinq_2yrs\", \"mths_since_last_delinq\", \"mths_since_last_major_derog\", \"grade\"]]\r\n",
        "\r\n",
        "features.isnull().sum()"
      ],
      "execution_count": null,
      "outputs": []
    },
    {
      "cell_type": "code",
      "metadata": {
        "id": "Jw5RRETnFhFG"
      },
      "source": [
        "potential_features.info()"
      ],
      "execution_count": null,
      "outputs": []
    },
    {
      "cell_type": "code",
      "metadata": {
        "id": "4V_virNuFpdX"
      },
      "source": [
        "#features = potential_features\r\n",
        "features.drop(\"Unnamed: 0\", axis = 1, inplace = True)"
      ],
      "execution_count": null,
      "outputs": []
    },
    {
      "cell_type": "code",
      "metadata": {
        "id": "RyyXzeWpP_IW"
      },
      "source": [
        "features"
      ],
      "execution_count": null,
      "outputs": []
    },
    {
      "cell_type": "code",
      "metadata": {
        "id": "jc78RvFZFzvC"
      },
      "source": [
        "# %%time\r\n",
        "# accepted.to_csv(\"/content/gdrive/MyDrive/NYC DSA Capstone Project/Data/accepted_2007_to_2018q4.csv/accepted.csv\")"
      ],
      "execution_count": null,
      "outputs": []
    },
    {
      "cell_type": "code",
      "metadata": {
        "id": "081KlZ0LHoCJ"
      },
      "source": [
        "# %%time\r\n",
        "# features.to_csv(\"/content/gdrive/MyDrive/NYC DSA Capstone Project/Data/features.csv\")"
      ],
      "execution_count": null,
      "outputs": []
    },
    {
      "cell_type": "code",
      "metadata": {
        "id": "QMqZPuITIYaG"
      },
      "source": [
        "features.loan_status_trim.unique()"
      ],
      "execution_count": null,
      "outputs": []
    },
    {
      "cell_type": "code",
      "metadata": {
        "id": "BZzucE7_TOqN"
      },
      "source": [
        "status = pd.DataFrame(features.groupby(\"loan_status_trim\")[\"pub_rec\"].count()).sort_values(by = \"pub_rec\", ascending = False).reset_index()\r\n",
        "status = status.rename(columns = {\"pub_rec\":\"count\"})\r\n",
        "status[\"count\"] = status[\"count\"] / sum(status[\"count\"])\r\n",
        "status"
      ],
      "execution_count": null,
      "outputs": []
    },
    {
      "cell_type": "code",
      "metadata": {
        "id": "_7fvWuKt_WkC"
      },
      "source": [
        "#features = features.loc[(features[\"loan_status_trim\"] == \"Fully Paid\") | (features[\"loan_status_trim\"] == \"Charged Off\") | (features[\"loan_status_trim\"] == \"Default\")]\r\n",
        "features"
      ],
      "execution_count": null,
      "outputs": []
    },
    {
      "cell_type": "code",
      "metadata": {
        "id": "w3MchvejAZ0q"
      },
      "source": [
        "features.isnull().sum()"
      ],
      "execution_count": null,
      "outputs": []
    },
    {
      "cell_type": "code",
      "metadata": {
        "id": "Bl9P7oy7-f1K"
      },
      "source": [
        "default = [\"Charged Off\", \"Default\"]"
      ],
      "execution_count": null,
      "outputs": []
    },
    {
      "cell_type": "code",
      "metadata": {
        "id": "r22RFyMKUu-T"
      },
      "source": [
        "def status(x):\r\n",
        "    if x in default:\r\n",
        "        return 1\r\n",
        "    else:\r\n",
        "        return 0    "
      ],
      "execution_count": null,
      "outputs": []
    },
    {
      "cell_type": "code",
      "metadata": {
        "id": "rqDbDrdAAvUM"
      },
      "source": [
        "features[\"loan_status_trim\"] = features[\"loan_status_trim\"].apply(status)\r\n",
        "features[\"loan_status_trim\"]"
      ],
      "execution_count": null,
      "outputs": []
    },
    {
      "cell_type": "code",
      "metadata": {
        "id": "rgFI0_PIA87L"
      },
      "source": [
        "status = pd.DataFrame(features.groupby(\"loan_status_trim\")[\"pub_rec\"].count()).sort_values(by = \"pub_rec\", ascending = False).reset_index()\r\n",
        "status = status.rename(columns = {\"pub_rec\":\"count\"})\r\n",
        "status[\"count\"] = status[\"count\"] / sum(status[\"count\"])\r\n",
        "status"
      ],
      "execution_count": null,
      "outputs": []
    },
    {
      "cell_type": "code",
      "metadata": {
        "id": "-zbVx1O7TJ7_"
      },
      "source": [
        "features.info()"
      ],
      "execution_count": null,
      "outputs": []
    },
    {
      "cell_type": "code",
      "metadata": {
        "id": "r4w8-_-ATfbq"
      },
      "source": [
        "features.isnull().sum()"
      ],
      "execution_count": null,
      "outputs": []
    },
    {
      "cell_type": "code",
      "metadata": {
        "id": "by56cS_3WIN-"
      },
      "source": [
        "featuresCD = features.loc[(features.grade == 3) | (features.grade == 4)]\r\n",
        "featuresCD"
      ],
      "execution_count": null,
      "outputs": []
    },
    {
      "cell_type": "code",
      "metadata": {
        "id": "fC6N_pjpW8Nn"
      },
      "source": [
        "status = pd.DataFrame(featuresCD.groupby(\"loan_status_trim\")[\"pub_rec\"].count()).sort_values(by = \"pub_rec\", ascending = False).reset_index()\r\n",
        "status = status.rename(columns = {\"pub_rec\":\"count\"})\r\n",
        "#status[\"count\"] = status[\"count\"] / sum(status[\"count\"])\r\n",
        "status"
      ],
      "execution_count": null,
      "outputs": []
    },
    {
      "cell_type": "code",
      "metadata": {
        "id": "QhFap1j45JLk"
      },
      "source": [
        "len(featuresCD[featuresCD.loan_status_trim == 0])"
      ],
      "execution_count": null,
      "outputs": []
    },
    {
      "cell_type": "code",
      "metadata": {
        "id": "ALudd-M3XH4P"
      },
      "source": [
        "featuresCD.drop(\"Unnamed: 0\", axis = 1, inplace = True)"
      ],
      "execution_count": null,
      "outputs": []
    },
    {
      "cell_type": "code",
      "metadata": {
        "id": "k2KHDg1RYsML"
      },
      "source": [
        "featuresCD"
      ],
      "execution_count": null,
      "outputs": []
    },
    {
      "cell_type": "code",
      "metadata": {
        "id": "ajOOpC2hV3Np"
      },
      "source": [
        "%%time\r\n",
        "featuresCD.to_csv(\"/content/gdrive/MyDrive/NYC DSA Capstone Project/Data/featuresCD.csv\")"
      ],
      "execution_count": null,
      "outputs": []
    },
    {
      "cell_type": "code",
      "metadata": {
        "id": "Xmd_fGfvFWbc"
      },
      "source": [
        "# %%time\r\n",
        "# features.to_csv(\"/content/gdrive/MyDrive/NYC DSA Capstone Project/Data/features.csv\")"
      ],
      "execution_count": null,
      "outputs": []
    },
    {
      "cell_type": "code",
      "metadata": {
        "id": "JzQNGEowB6Tn"
      },
      "source": [
        "import sklearn.model_selection as ms\r\n",
        "from sklearn.model_selection import train_test_split"
      ],
      "execution_count": null,
      "outputs": []
    },
    {
      "cell_type": "code",
      "metadata": {
        "id": "3G3c4zuaDe7c"
      },
      "source": [
        "data = featuresCD.iloc[:, 1:27]\r\n",
        "target = featuresCD.iloc[:, 0]"
      ],
      "execution_count": null,
      "outputs": []
    },
    {
      "cell_type": "code",
      "metadata": {
        "id": "qyoxj3UhbrVS"
      },
      "source": [
        "data"
      ],
      "execution_count": null,
      "outputs": []
    },
    {
      "cell_type": "code",
      "metadata": {
        "id": "F6IfJcMaMqnj"
      },
      "source": [
        "target"
      ],
      "execution_count": null,
      "outputs": []
    },
    {
      "cell_type": "code",
      "metadata": {
        "id": "bJHhi05cEBO4"
      },
      "source": [
        "X_train, X_test, y_train, y_test = train_test_split(data, target, test_size=0.2, random_state=0)"
      ],
      "execution_count": null,
      "outputs": []
    },
    {
      "cell_type": "code",
      "metadata": {
        "id": "WtC_IQVIEMi2"
      },
      "source": [
        "def get_score(X_train, y_train, X_test, y_test, model, show = True):\r\n",
        "    model.fit(X_train, y_train)\r\n",
        "    train_score = model.score(X_train, y_train)\r\n",
        "    test_score  = model.score(X_test, y_test)\r\n",
        "    if show:\r\n",
        "        print(\"The training score is: %.5f\" %train_score)\r\n",
        "        print(\"The test     score is: %.5f\" %test_score)\r\n",
        "    return [train_score, test_score]"
      ],
      "execution_count": null,
      "outputs": []
    },
    {
      "cell_type": "code",
      "metadata": {
        "id": "Rnh6sJVzESDo"
      },
      "source": [
        "%%time\r\n",
        "from sklearn import tree\r\n",
        "tree_model = tree.DecisionTreeClassifier()\r\n",
        "tree_model.fit(X_train, y_train)\r\n",
        "print(\"Training score: \" + str(tree_model.score(X_train, y_train)))\r\n",
        "print(\"Test score: \" + str(tree_model.score(X_test, y_test)))"
      ],
      "execution_count": null,
      "outputs": []
    },
    {
      "cell_type": "code",
      "metadata": {
        "id": "fWP4BWEFGX3V"
      },
      "source": [
        "%%time\r\n",
        "from sklearn import tree\r\n",
        "tree_model = tree.DecisionTreeClassifier()\r\n",
        "get_score(X_train, y_train, X_test, y_test, tree_model)"
      ],
      "execution_count": null,
      "outputs": []
    },
    {
      "cell_type": "code",
      "metadata": {
        "id": "BEy67K-tGu3h"
      },
      "source": [
        "grid_para_forest = {\r\n",
        "    'criterion':    ['entropy'],\r\n",
        "    'max_depth':    [30],\r\n",
        "    'n_estimators': [100]\r\n",
        "}"
      ],
      "execution_count": null,
      "outputs": []
    },
    {
      "cell_type": "code",
      "metadata": {
        "id": "KT_Ijg7XHRCD"
      },
      "source": [
        "%%time\r\n",
        "from sklearn import ensemble\r\n",
        "\r\n",
        "class_weight = dict({0:1, 1:(len(featuresCD[featuresCD.loan_status_trim == 0]) / len(featuresCD[featuresCD.loan_status_trim == 1]))})\r\n",
        "\r\n",
        "randomForest = ensemble.RandomForestClassifier(class_weight = class_weight, \r\n",
        "                                               criterion = \"entropy\", \r\n",
        "                                               n_estimators = 10,\r\n",
        "                                               max_depth = 10,\r\n",
        "                                               n_jobs = -1) \r\n",
        "                                            \r\n",
        "\r\n",
        "# fit RF model on training set\r\n",
        "randomForest.set_params(random_state = 0)\r\n",
        "\r\n",
        "randomForest.fit(X_train, y_train) \r\n",
        "\r\n",
        "print(\"The training score is: %.5f\" % (randomForest.score(X_train, y_train)))\r\n",
        "print(\"The test     score is: %.5f\" % (randomForest.score(X_test, y_test)))"
      ],
      "execution_count": null,
      "outputs": []
    },
    {
      "cell_type": "code",
      "metadata": {
        "id": "ninQ0DDjajKP"
      },
      "source": [
        "randomForest = ensemble.RandomForestClassifier(class_weight = class_weight, random_state = 0) \r\n",
        "                                            \r\n",
        "\r\n",
        "#fit RF model on training set\r\n",
        "randomForest.set_params(random_state = 0)\r\n",
        "\r\n",
        "randomForest.fit(X_train, y_train) \r\n",
        "\r\n",
        "print(\"The training score is: %.5f\" % (randomForest.score(X_train, y_train)))\r\n",
        "print(\"The test     score is: %.5f\" % (randomForest.score(X_test, y_test)))"
      ],
      "execution_count": null,
      "outputs": []
    },
    {
      "cell_type": "code",
      "metadata": {
        "id": "dYVuD2WoHL9L"
      },
      "source": [
        "%%time\r\n",
        "grid_search_forest = ms.GridSearchCV(randomForest, grid_para_forest, scoring = 'accuracy', cv = 2, n_jobs = -1)\r\n",
        "grid_search_forest.fit(X_train, y_train)"
      ],
      "execution_count": null,
      "outputs": []
    },
    {
      "cell_type": "code",
      "metadata": {
        "id": "qiNIOZiZU-cN"
      },
      "source": [
        "grid_search_forest.best_params_"
      ],
      "execution_count": null,
      "outputs": []
    },
    {
      "cell_type": "code",
      "metadata": {
        "id": "G5OFA5rwVA7u"
      },
      "source": [
        "grid_search_forest.best_score_"
      ],
      "execution_count": null,
      "outputs": []
    },
    {
      "cell_type": "code",
      "metadata": {
        "id": "ccXEzLLe-7Oj"
      },
      "source": [
        "confusion_matrix(y_true = y_test, y_pred = grid_search_forest.best_estimator_.predict(X_test))"
      ],
      "execution_count": null,
      "outputs": []
    },
    {
      "cell_type": "code",
      "metadata": {
        "id": "Rz5EVKcZVEN2"
      },
      "source": [
        "print(\"The training score is: %.5f\" % (grid_search_forest.best_estimator_.score(X_train, y_train)))\r\n",
        "print(\"The test     score is: %.5f\" % (grid_search_forest.best_estimator_.score(X_test, y_test)))"
      ],
      "execution_count": null,
      "outputs": []
    },
    {
      "cell_type": "code",
      "metadata": {
        "id": "5NTu7AhEVH2T"
      },
      "source": [
        "feature_importance = list(zip(data.columns, randomForest.feature_importances_))\r\n",
        "dtype = [('feature', 'S10'), ('importance', 'float')]\r\n",
        "feature_importance = np.array(feature_importance, dtype=dtype)\r\n",
        "feature_sort = np.sort(feature_importance, order='importance')[::-1]\r\n",
        "[i for (i, j) in feature_sort[0:5]]"
      ],
      "execution_count": null,
      "outputs": []
    },
    {
      "cell_type": "code",
      "metadata": {
        "id": "JExNxALlVLh9"
      },
      "source": [
        "plt.figure(figsize = (20,10))\r\n",
        "featureNames, featureScores = zip(*list(feature_sort))\r\n",
        "plt.barh(range(len(featureScores)), featureScores, tick_label=featureNames)\r\n",
        "plt.title('feature importance')"
      ],
      "execution_count": null,
      "outputs": []
    },
    {
      "cell_type": "markdown",
      "metadata": {
        "id": "SX_KOyVdT4v4"
      },
      "source": [
        "XGBoost time"
      ]
    },
    {
      "cell_type": "code",
      "metadata": {
        "id": "GPFKD-TOT3Yv"
      },
      "source": [
        "from sklearn.ensemble import GradientBoostingClassifier"
      ],
      "execution_count": null,
      "outputs": []
    },
    {
      "cell_type": "code",
      "metadata": {
        "id": "5Rj9lV7aVnoM"
      },
      "source": [
        "gbm = GradientBoostingClassifier(random_state = 0)"
      ],
      "execution_count": null,
      "outputs": []
    },
    {
      "cell_type": "code",
      "metadata": {
        "id": "PS69D2rlWkX_"
      },
      "source": [
        "param_grid = {\r\n",
        "    \"learning_rate\" : [0.001, 0.1, 1],\r\n",
        "    \"max_depth\"     : [3, 5, 10],\r\n",
        "    \"subsample\"     : [0.1, 0.9, 1],\r\n",
        "    \"n_estimators\"  : [100]\r\n",
        "}"
      ],
      "execution_count": null,
      "outputs": []
    },
    {
      "cell_type": "code",
      "metadata": {
        "id": "ObB-Am0IPxU4"
      },
      "source": [
        "sample(data)"
      ],
      "execution_count": null,
      "outputs": []
    },
    {
      "cell_type": "code",
      "metadata": {
        "id": "_oAW2lEBdkE6"
      },
      "source": [
        "%%time\r\n",
        "grid_search_gbm = ms.GridSearchCV(gbm, param_grid, scoring = 'accuracy', cv = 2, n_jobs = -1)\r\n",
        "grid_search_gbm.fit(, )"
      ],
      "execution_count": null,
      "outputs": []
    },
    {
      "cell_type": "code",
      "metadata": {
        "id": "tSWKoRL8fKrc"
      },
      "source": [
        "grid_search_gbm.best_params_"
      ],
      "execution_count": null,
      "outputs": []
    },
    {
      "cell_type": "code",
      "metadata": {
        "id": "qlgCI5ySfe2-"
      },
      "source": [
        "grid_search_gbm.best_score_"
      ],
      "execution_count": null,
      "outputs": []
    },
    {
      "cell_type": "code",
      "metadata": {
        "id": "Z2DqksBsfnYJ"
      },
      "source": [
        "confusion_matrix(y_true = y_test, y_pred = grid_search_gbm.best_estimator_.predict(X_test))"
      ],
      "execution_count": null,
      "outputs": []
    },
    {
      "cell_type": "code",
      "metadata": {
        "id": "-FH3s3iGfvis"
      },
      "source": [
        "print(\"The training score is: %.5f\" % (grid_search_gbm.best_estimator_.score(X_train, y_train)))\r\n",
        "print(\"The test     score is: %.5f\" % (grid_search_gbm.best_estimator_.score(X_test, y_test)))"
      ],
      "execution_count": null,
      "outputs": []
    },
    {
      "cell_type": "markdown",
      "metadata": {
        "id": "B-AxLH_-O3jX"
      },
      "source": [
        "Second Try at Gradient Boosting"
      ]
    },
    {
      "cell_type": "code",
      "metadata": {
        "id": "rTF_RUZjO159"
      },
      "source": [
        "param_grid = {\r\n",
        "    \"learning_rate\" : [0.01, 0.1],\r\n",
        "    \"max_depth\"     : [5],\r\n",
        "    \"subsample\"     : [0.9],\r\n",
        "    \"n_estimators\"  : [100, 200, 300]\r\n",
        "}"
      ],
      "execution_count": null,
      "outputs": []
    },
    {
      "cell_type": "code",
      "metadata": {
        "id": "l-3zElPPPO4M"
      },
      "source": [
        "%%time\r\n",
        "grid_search_gbm = ms.GridSearchCV(gbm, param_grid, scoring = 'accuracy', cv = 3, n_jobs = -1)\r\n",
        "grid_search_gbm.fit(X_train, y_train)"
      ],
      "execution_count": null,
      "outputs": []
    },
    {
      "cell_type": "code",
      "metadata": {
        "id": "xa51kHCPPUhB"
      },
      "source": [
        "grid_search_gbm.best_params_"
      ],
      "execution_count": null,
      "outputs": []
    },
    {
      "cell_type": "code",
      "metadata": {
        "id": "dFl765NCPbZc"
      },
      "source": [
        "grid_search_gbm.best_score_"
      ],
      "execution_count": null,
      "outputs": []
    },
    {
      "cell_type": "code",
      "metadata": {
        "id": "mHREEXwxPcUn"
      },
      "source": [
        ""
      ],
      "execution_count": null,
      "outputs": []
    },
    {
      "cell_type": "markdown",
      "metadata": {
        "id": "GM3q7Vp5CEAr"
      },
      "source": [
        "Support Vector Machines"
      ]
    },
    {
      "cell_type": "code",
      "metadata": {
        "id": "5Ccg0YXPCK3X"
      },
      "source": [
        "from sklearn.svm import SVC"
      ],
      "execution_count": null,
      "outputs": []
    },
    {
      "cell_type": "code",
      "metadata": {
        "id": "ot3OXkRiDizg"
      },
      "source": [
        "%%time \r\n",
        "svm = SVC(class_weight = class_weight, random_state = 0, )\r\n",
        "svm.fit(X_train, y_train)\r\n",
        "print(svm.score(X_train, y_train))\r\n",
        "print(svm.score(X_test, y_test))\r\n",
        "confusion_matrix(y_true = y_test, y_pred = grid_search_gbm.best_estimator_.predict(X_test))"
      ],
      "execution_count": null,
      "outputs": []
    },
    {
      "cell_type": "code",
      "metadata": {
        "id": "sHl_hd7TV2JT"
      },
      "source": [
        ""
      ],
      "execution_count": null,
      "outputs": []
    }
  ]
}