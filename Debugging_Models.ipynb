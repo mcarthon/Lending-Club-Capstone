{
  "nbformat": 4,
  "nbformat_minor": 0,
  "metadata": {
    "colab": {
      "name": "Debugging Models.ipynb",
      "provenance": [],
      "collapsed_sections": []
    },
    "kernelspec": {
      "name": "python3",
      "display_name": "Python 3"
    }
  },
  "cells": [
    {
      "cell_type": "code",
      "metadata": {
        "id": "j8_bIMLt_cC3"
      },
      "source": [
        "import pandas as pd\r\n",
        "from sklearn.model_selection import train_test_split\r\n",
        "from sklearn import tree\r\n",
        "from sklearn.metrics import confusion_matrix, SCORERS, classification_report\r\n",
        "import numpy as np"
      ],
      "execution_count": null,
      "outputs": []
    },
    {
      "cell_type": "code",
      "metadata": {
        "id": "ZU0X5_PG_qt0"
      },
      "source": [
        "featuresCD = pd.read_csv(\"/content/drive/MyDrive/NYC DSA Capstone Project/Data/featuresCD.csv\", low_memory = False)\r\n",
        "featuresCD.drop([\"Unnamed: 0\"], axis = 1, inplace = True)\r\n",
        "featuresCD"
      ],
      "execution_count": null,
      "outputs": []
    },
    {
      "cell_type": "code",
      "metadata": {
        "id": "PbmBqZDGJakc"
      },
      "source": [
        "featuresCD.columns"
      ],
      "execution_count": null,
      "outputs": []
    },
    {
      "cell_type": "code",
      "metadata": {
        "id": "oQFXtNaP_x8z"
      },
      "source": [
        "data = featuresCD.iloc[:, 1:]\r\n",
        "target = featuresCD.iloc[:, 0]"
      ],
      "execution_count": null,
      "outputs": []
    },
    {
      "cell_type": "code",
      "metadata": {
        "id": "TLIp2No7_3RH"
      },
      "source": [
        "data"
      ],
      "execution_count": null,
      "outputs": []
    },
    {
      "cell_type": "code",
      "metadata": {
        "id": "owjQIWnO_4o0"
      },
      "source": [
        "target"
      ],
      "execution_count": null,
      "outputs": []
    },
    {
      "cell_type": "code",
      "metadata": {
        "id": "N_z1CpIt_77F"
      },
      "source": [
        "X_train, X_test, y_train, y_test = train_test_split(data, target, test_size = 0.3, stratify = target, shuffle = True)"
      ],
      "execution_count": null,
      "outputs": []
    },
    {
      "cell_type": "code",
      "metadata": {
        "id": "0_wl8DFWADtG"
      },
      "source": [
        "%%time\r\n",
        "\r\n",
        "print(\"-\"*60)\r\n",
        "tree_model = tree.DecisionTreeClassifier(criterion = \"entropy\",\r\n",
        "                                         class_weight = {0:2e-8, 1:1},\r\n",
        "                                         #min_sample \r\n",
        "                                         random_state = 0)\r\n",
        "\r\n",
        "tree_model.fit(X_train, y_train)\r\n",
        "\r\n",
        "print(f\"Training score: {tree_model.score(X_train, y_train)}\")\r\n",
        "print(f\"Test score:     {tree_model.score(X_test, y_test)}\")\r\n",
        "\r\n",
        "print(\"-\"*60)\r\n",
        "\r\n",
        "print(f\"Training Confusion Matrix\")\r\n",
        "print(confusion_matrix(y_true = y_train,\r\n",
        "                       y_pred = tree_model.predict(X_train)))\r\n",
        "\r\n",
        "print(\"-\"*60)\r\n",
        "\r\n",
        "print(f\"Testing Confusion Matrix\")\r\n",
        "print(confusion_matrix(y_true = y_test,\r\n",
        "                       y_pred = tree_model.predict(X_test)))\r\n",
        "\r\n",
        "print(\"-\"*60)"
      ],
      "execution_count": null,
      "outputs": []
    },
    {
      "cell_type": "code",
      "metadata": {
        "id": "0U2yA2FcAwcP"
      },
      "source": [
        "pd.DataFrame(list(zip(featuresCD.columns, tree_model.feature_importances_)), columns = [\"feature\", \"importance\"]).sort_values(by = \"importance\", ascending = False)"
      ],
      "execution_count": null,
      "outputs": []
    },
    {
      "cell_type": "markdown",
      "metadata": {
        "id": "BQ2MbdGiRNCn"
      },
      "source": [
        "Look at Gradient Boosting again"
      ]
    },
    {
      "cell_type": "code",
      "metadata": {
        "id": "iO1qu1I4RKUf"
      },
      "source": [
        "X_train, X_test, y_train, y_test = train_test_split(data, target, train_size = 0.01, test_size = 0.01, stratify = target, shuffle = True)"
      ],
      "execution_count": null,
      "outputs": []
    },
    {
      "cell_type": "code",
      "metadata": {
        "id": "Cbscwaa0Rk-0"
      },
      "source": [
        "from sklearn.ensemble import GradientBoostingClassifier\r\n",
        "import sklearn.model_selection as ms"
      ],
      "execution_count": null,
      "outputs": []
    },
    {
      "cell_type": "code",
      "metadata": {
        "id": "fvf3sguHRmbj"
      },
      "source": [
        "param_grid = {\r\n",
        "    \"learning_rate\" : [0.01],\r\n",
        "    \"max_depth\"     : [5, 10, 15],\r\n",
        "    \"subsample\"     : [0.9],\r\n",
        "    \"n_estimators\"  : [300,]\r\n",
        "}"
      ],
      "execution_count": null,
      "outputs": []
    },
    {
      "cell_type": "code",
      "metadata": {
        "id": "OdZcDK0CRwAC"
      },
      "source": [
        "%%time\r\n",
        "gbm = GradientBoostingClassifier()\r\n",
        "grid_search_gbm = ms.GridSearchCV(gbm, param_grid, scoring = 'recall', cv = 3, n_jobs = -1)\r\n",
        "grid_search_gbm.fit(X_train, y_train)"
      ],
      "execution_count": null,
      "outputs": []
    },
    {
      "cell_type": "code",
      "metadata": {
        "id": "s2IMEM84R1Vn"
      },
      "source": [
        "grid_search_gbm.best_params_"
      ],
      "execution_count": null,
      "outputs": []
    },
    {
      "cell_type": "code",
      "metadata": {
        "id": "w_qbG7ytR3NJ"
      },
      "source": [
        "grid_search_gbm.best_score_"
      ],
      "execution_count": null,
      "outputs": []
    },
    {
      "cell_type": "code",
      "metadata": {
        "id": "ZfPtbKZkW5B9"
      },
      "source": [
        "print(\"-\"*60)\r\n",
        "\r\n",
        "print(f\"Training Confusion Matrix\")\r\n",
        "print(confusion_matrix(y_true = y_train,\r\n",
        "                       y_pred = grid_search_gbm.best_estimator_.predict(X_train)))\r\n",
        "\r\n",
        "print(\"-\"*60)\r\n",
        "\r\n",
        "print(f\"Testing Confusion Matrix\")\r\n",
        "print(confusion_matrix(y_true = y_test,\r\n",
        "                       y_pred = grid_search_gbm.best_estimator_.predict(X_test)))\r\n",
        "\r\n",
        "print(\"-\"*60)"
      ],
      "execution_count": null,
      "outputs": []
    },
    {
      "cell_type": "code",
      "metadata": {
        "id": "utXfV6KaZHcv"
      },
      "source": [
        "grid_search_gbm.cv_results_"
      ],
      "execution_count": null,
      "outputs": []
    },
    {
      "cell_type": "code",
      "metadata": {
        "id": "jSSkosmaaX99"
      },
      "source": [
        "# Can't use class_weight for Gradient Boosting\r\n",
        "\r\n",
        "class_weight = {0:1, \r\n",
        "                1: len(featuresCD[featuresCD[\"loan_status_trim\"] == 0]) / len(featuresCD[featuresCD[\"loan_status_trim\"] == 1])\r\n",
        "                }"
      ],
      "execution_count": null,
      "outputs": []
    },
    {
      "cell_type": "code",
      "metadata": {
        "id": "R6ubbCecaeuV"
      },
      "source": [
        "from sklearn.svm import SVC"
      ],
      "execution_count": null,
      "outputs": []
    },
    {
      "cell_type": "code",
      "metadata": {
        "id": "Yf8-G7JIdnBL"
      },
      "source": [
        "%%time \r\n",
        "\r\n",
        "X_train, X_test, y_train, y_test = train_test_split(data, target, train_size = 0.01, test_size = 0.01, stratify = target, shuffle = True)\r\n",
        "\r\n",
        "svm = SVC()\r\n",
        "\r\n",
        "weights = np.linspace(2e-16, 3, 11)\r\n",
        "\r\n",
        "param_grid_svm = {\r\n",
        "    \"kernel\": [\"sigmoid\"],\r\n",
        "    \"class_weight\" : [{0:x, 1:3-x} for x in weights]\r\n",
        "    }\r\n",
        "\r\n",
        "grid_search_svm = ms.GridSearchCV(svm, \r\n",
        "                                  param_grid_svm, \r\n",
        "                                  scoring = \"f1_macro\", \r\n",
        "                                  cv = 2, \r\n",
        "                                  n_jobs = -1)\r\n",
        "\r\n",
        "grid_search_svm.fit(X_train, y_train)\r\n",
        "print(grid_search_svm.best_estimator_.score(X_train, y_train))\r\n",
        "print(grid_search_svm.best_estimator_.score(X_test, y_test))\r\n",
        "print(confusion_matrix(y_true = y_train, y_pred = grid_search_svm.best_estimator_.predict(X_train)))\r\n",
        "print(confusion_matrix(y_true = y_test, y_pred = grid_search_svm.best_estimator_.predict(X_test)))\r\n",
        "print(classification_report(y_test, y_pred = grid_search_svm.best_estimator_.predict(X_test)))\r\n",
        "print(grid_search_svm.best_params_)"
      ],
      "execution_count": null,
      "outputs": []
    },
    {
      "cell_type": "code",
      "metadata": {
        "id": "6tJ1q6Dc0XY2"
      },
      "source": [
        "%%time \r\n",
        "\r\n",
        "X_train, X_test, y_train, y_test = train_test_split(data, target, train_size = 0.01, test_size = 0.01, stratify = target, shuffle = True)\r\n",
        "\r\n",
        "svm = SVC(class_weight = {0:1.2, 1:1.8}, kernel = \"sigmoid\", C = 33)\r\n",
        "\r\n",
        "param_grid_svm = {\r\n",
        "    \"C\":[33]\r\n",
        "    }\r\n",
        "\r\n",
        "grid_search_svm = ms.GridSearchCV(svm, \r\n",
        "                                  param_grid_svm, \r\n",
        "                                  scoring = \"f1_macro\", \r\n",
        "                                  cv = 2, \r\n",
        "                                  n_jobs = -1)\r\n",
        "\r\n",
        "grid_search_svm.fit(X_train, y_train)\r\n",
        "print(grid_search_svm.best_estimator_.score(X_train, y_train))\r\n",
        "print(grid_search_svm.best_estimator_.score(X_test, y_test))\r\n",
        "print(confusion_matrix(y_true = y_train, y_pred = grid_search_svm.best_estimator_.predict(X_train)))\r\n",
        "print(confusion_matrix(y_true = y_test, y_pred = grid_search_svm.best_estimator_.predict(X_test)))\r\n",
        "print(classification_report(y_test, y_pred = grid_search_svm.best_estimator_.predict(X_test)))\r\n",
        "print(grid_search_svm.best_params_)\r\n",
        "print(grid_search_svm.cv_results_)"
      ],
      "execution_count": null,
      "outputs": []
    },
    {
      "cell_type": "code",
      "metadata": {
        "id": "HPxm3F8uVubV"
      },
      "source": [
        "import imblearn\r\n",
        "from imblearn.over_sampling import SVMSMOTE\r\n",
        "from imblearn.pipeline import make_pipeline"
      ],
      "execution_count": null,
      "outputs": []
    },
    {
      "cell_type": "code",
      "metadata": {
        "id": "dmLf4iXI5Ecl"
      },
      "source": [
        "%%time \r\n",
        "\r\n",
        "X_train, X_test, y_train, y_test = train_test_split(data, target, train_size = 0.01, test_size = 0.01, stratify = target, shuffle = True)\r\n",
        "\r\n",
        "svm = SVC(#class_weight = {0:1.2, 1:1.8},\r\n",
        "          kernel = \"sigmoid\", \r\n",
        "          C = 33)\r\n",
        "          #tol = 2e-16, \r\n",
        "          #shrinking = False\r\n",
        "          #break_ties = True)\r\n",
        "\r\n",
        "pipe = make_pipeline(\r\n",
        "    SVMSMOTE(svm_estimator = svm,\r\n",
        "             sampling_strategy = {0:4369, 1:4369},\r\n",
        "             n_jobs = -1,\r\n",
        "             m_neighbors = 1,\r\n",
        "             k_neighbors = 2),\r\n",
        "    svm\r\n",
        ")\r\n",
        "\r\n",
        "param_grid_svm = {\r\n",
        "    \r\n",
        "    }\r\n",
        "\r\n",
        "pipe_grid_search_svm = ms.GridSearchCV(pipe, \r\n",
        "                                  param_grid_svm, \r\n",
        "                                  scoring = \"f1_macro\", \r\n",
        "                                  cv = 2, \r\n",
        "                                  n_jobs = -1)\r\n",
        "\r\n",
        "pipe_grid_search_svm.fit(X_train, y_train)\r\n",
        "print(pipe_grid_search_svm.best_estimator_.score(X_train, y_train))\r\n",
        "print(pipe_grid_search_svm.best_estimator_.score(X_test, y_test))\r\n",
        "print(confusion_matrix(y_true = y_train, y_pred = pipe_grid_search_svm.best_estimator_.predict(X_train)))\r\n",
        "print(confusion_matrix(y_true = y_test, y_pred = pipe_grid_search_svm.best_estimator_.predict(X_test)))\r\n",
        "print(classification_report(y_test, y_pred = pipe_grid_search_svm.best_estimator_.predict(X_test)))\r\n",
        "#print(pipe_grid_search_svm.best_params_)\r\n",
        "print(pipe_grid_search_svm.cv_results_)"
      ],
      "execution_count": null,
      "outputs": []
    },
    {
      "cell_type": "code",
      "metadata": {
        "id": "mEwCtk3PelTo"
      },
      "source": [
        "print(\"Imbalanced-Learn\", imblearn.__version__)"
      ],
      "execution_count": null,
      "outputs": []
    },
    {
      "cell_type": "code",
      "metadata": {
        "id": "2rJa3JJ2FLkD"
      },
      "source": [
        "sorted(SCORERS.keys())"
      ],
      "execution_count": null,
      "outputs": []
    },
    {
      "cell_type": "markdown",
      "metadata": {
        "id": "NCl8x_cpzlC7"
      },
      "source": [
        ""
      ]
    },
    {
      "cell_type": "code",
      "metadata": {
        "id": "d5LTfGmKqpEk"
      },
      "source": [
        "grid_search_svm.get_params().keys()"
      ],
      "execution_count": null,
      "outputs": []
    },
    {
      "cell_type": "code",
      "metadata": {
        "id": "9O5u8s6aBs4l"
      },
      "source": [
        "dir(grid_search_svm)"
      ],
      "execution_count": null,
      "outputs": []
    },
    {
      "cell_type": "code",
      "metadata": {
        "id": "_67z485sB8R9"
      },
      "source": [
        "grid_search_svm.cv_results_"
      ],
      "execution_count": null,
      "outputs": []
    }
  ]
}