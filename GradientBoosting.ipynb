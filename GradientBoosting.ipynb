{
  "nbformat": 4,
  "nbformat_minor": 0,
  "metadata": {
    "colab": {
      "name": "GradientBoosting.ipynb",
      "provenance": [],
      "machine_shape": "hm"
    },
    "kernelspec": {
      "name": "python3",
      "display_name": "Python 3"
    }
  },
  "cells": [
    {
      "cell_type": "code",
      "metadata": {
        "id": "633yswtjNvfm"
      },
      "source": [
        "import pandas as pd\r\n",
        "import numpy as np\r\n",
        "from sklearn.ensemble import GradientBoostingClassifier\r\n",
        "import sklearn.model_selection as ms\r\n",
        "from sklearn.model_selection import train_test_split\r\n",
        "from sklearn.metrics import confusion_matrix, classification_report\r\n",
        "import warnings\r\n",
        "warnings.filterwarnings(\"ignore\")"
      ],
      "execution_count": 106,
      "outputs": []
    },
    {
      "cell_type": "code",
      "metadata": {
        "id": "uaN7lAofPThb"
      },
      "source": [
        "featuresCD = pd.read_csv(\"/content/drive/MyDrive/NYC DSA Capstone Project/Data/featuresCD.csv\", low_memory = False)\r\n",
        "featuresCD.drop([\"Unnamed: 0\"], axis = 1, inplace = True)\r\n",
        "featuresCD"
      ],
      "execution_count": null,
      "outputs": []
    },
    {
      "cell_type": "code",
      "metadata": {
        "id": "mYt4xS2WFdG-"
      },
      "source": [
        "data = featuresCD.iloc[:, 1:]\r\n",
        "target = featuresCD.iloc[:, 0]"
      ],
      "execution_count": 6,
      "outputs": []
    },
    {
      "cell_type": "code",
      "metadata": {
        "id": "fo9E98d0Fg6l"
      },
      "source": [
        "data"
      ],
      "execution_count": null,
      "outputs": []
    },
    {
      "cell_type": "code",
      "metadata": {
        "id": "Ce_0E-QlFjnf"
      },
      "source": [
        "target"
      ],
      "execution_count": null,
      "outputs": []
    },
    {
      "cell_type": "code",
      "metadata": {
        "id": "CZiGHodgII7V"
      },
      "source": [
        "gbm = GradientBoostingClassifier()"
      ],
      "execution_count": 14,
      "outputs": []
    },
    {
      "cell_type": "code",
      "metadata": {
        "colab": {
          "base_uri": "https://localhost:8080/"
        },
        "id": "RMGmcCeqFk7v",
        "outputId": "03572ee7-2c4e-478c-f110-6e6d8914d0dd"
      },
      "source": [
        "%%time\r\n",
        "\r\n",
        "X_train, X_test, y_train, y_test = train_test_split(data, target, train_size = 0.01, test_size = 0.01, stratify = target, shuffle = True)\r\n",
        "\r\n",
        "param_grid = {\r\n",
        "    \"learning_rate\"    : [1],\r\n",
        "    \"loss\"             : [\"deviance\"],\r\n",
        "    \"n_estimators\"     : [105],\r\n",
        "    \"subsample\"        : [0.55],\r\n",
        "    \"criterion\"        : [\"friedman_mse\"],\r\n",
        "    \"min_samples_split\": [15],\r\n",
        "    \"min_samples_leaf\" : [15],\r\n",
        "    \"min_weight_fraction_leaf\" : [0.1],\r\n",
        "    \"max_depth\"        : [2],\r\n",
        "    \"min_impurity_decrease\"    : [1],\r\n",
        "    \"min_impurity_split\"       : [0.1],\r\n",
        "  # \"init\"                     :\r\n",
        "    \"max_features\"     : [\"auto\"],\r\n",
        "    \"warm_start\"       : [False],\r\n",
        "    \"tol\"              : [2e-16],\r\n",
        "    \"ccp_alpha\"        : [0]\r\n",
        "}\r\n",
        "\r\n",
        "grid_search_gbm = ms.GridSearchCV(gbm, param_grid, scoring = 'f1_macro', cv = 5, n_jobs = -1)\r\n",
        "grid_search_gbm.fit(X_train, y_train)\r\n",
        "print(\"-\"*100)\r\n",
        "print(grid_search_gbm.best_estimator_.score(X_train, y_train))\r\n",
        "print(\"-\"*100)\r\n",
        "print(grid_search_gbm.best_estimator_.score(X_test, y_test))\r\n",
        "print(\"-\"*100)\r\n",
        "print(confusion_matrix(y_true = y_train, y_pred = grid_search_gbm.best_estimator_.predict(X_train)))\r\n",
        "print(\"-\"*100)\r\n",
        "print(confusion_matrix(y_true = y_test, y_pred = grid_search_gbm.best_estimator_.predict(X_test)))\r\n",
        "print(\"-\"*100)\r\n",
        "print(classification_report(y_true = y_train, y_pred = grid_search_gbm.best_estimator_.predict(X_train)))\r\n",
        "print(\"-\"*100)\r\n",
        "print(classification_report(y_true = y_test, y_pred = grid_search_gbm.best_estimator_.predict(X_test)))\r\n",
        "print(\"-\"*100)\r\n",
        "print(grid_search_gbm.best_params_)\r\n",
        "print(\"-\"*100)"
      ],
      "execution_count": 134,
      "outputs": [
        {
          "output_type": "stream",
          "text": [
            "----------------------------------------------------------------------------------------------------\n",
            "0.7621168008220586\n",
            "----------------------------------------------------------------------------------------------------\n",
            "0.7155821917808219\n",
            "----------------------------------------------------------------------------------------------------\n",
            "[[4098  271]\n",
            " [1118  352]]\n",
            "----------------------------------------------------------------------------------------------------\n",
            "[[3972  397]\n",
            " [1264  207]]\n",
            "----------------------------------------------------------------------------------------------------\n",
            "              precision    recall  f1-score   support\n",
            "\n",
            "           0       0.79      0.94      0.86      4369\n",
            "           1       0.57      0.24      0.34      1470\n",
            "\n",
            "    accuracy                           0.76      5839\n",
            "   macro avg       0.68      0.59      0.60      5839\n",
            "weighted avg       0.73      0.76      0.72      5839\n",
            "\n",
            "----------------------------------------------------------------------------------------------------\n",
            "              precision    recall  f1-score   support\n",
            "\n",
            "           0       0.76      0.91      0.83      4369\n",
            "           1       0.34      0.14      0.20      1471\n",
            "\n",
            "    accuracy                           0.72      5840\n",
            "   macro avg       0.55      0.52      0.51      5840\n",
            "weighted avg       0.65      0.72      0.67      5840\n",
            "\n",
            "----------------------------------------------------------------------------------------------------\n",
            "{'ccp_alpha': 0, 'criterion': 'friedman_mse', 'learning_rate': 1, 'loss': 'deviance', 'max_depth': 2, 'max_features': 'auto', 'min_impurity_decrease': 1, 'min_impurity_split': 0.1, 'min_samples_leaf': 15, 'min_samples_split': 15, 'min_weight_fraction_leaf': 0.1, 'n_estimators': 105, 'subsample': 0.55, 'tol': 2e-16, 'warm_start': False}\n",
            "----------------------------------------------------------------------------------------------------\n",
            "CPU times: user 1.13 s, sys: 43.8 ms, total: 1.17 s\n",
            "Wall time: 2.99 s\n"
          ],
          "name": "stdout"
        }
      ]
    }
  ]
}